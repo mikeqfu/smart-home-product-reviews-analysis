{
 "cells": [
  {
   "cell_type": "code",
   "execution_count": 1,
   "metadata": {
    "pycharm": {
     "name": "#%%\n"
    }
   },
   "outputs": [],
   "source": [
    "%%capture\n",
    "%cd .."
   ]
  },
  {
   "cell_type": "markdown",
   "metadata": {
    "pycharm": {
     "name": "#%% md\n"
    }
   },
   "source": [
    "# Data"
   ]
  },
  {
   "cell_type": "markdown",
   "metadata": {},
   "source": [
    "## 1. Robotic vacuum cleaners"
   ]
  },
  {
   "cell_type": "code",
   "execution_count": 2,
   "metadata": {
    "pycharm": {
     "name": "#%%\n"
    }
   },
   "outputs": [
    {
     "name": "stdout",
     "output_type": "stream",
     "text": [
      "Loading \"data\\amazon_reviews\\vacuum_cleaners\\robotic\\raw_data\\raw_data.pkl\" ... Done.\n",
      "Loading \"data\\amazon_reviews\\vacuum_cleaners\\robotic\\prep_data\\prep_data.pkl\" ... Done.\n",
      "Loading \"data\\amazon_reviews\\vacuum_cleaners\\robotic\\preprocd_data\\preprocd_data.pkl\" ... Done.\n"
     ]
    }
   ],
   "source": [
    "from src.processor import RoboticVacuumCleaners\n",
    "\n",
    "rvc = RoboticVacuumCleaners(load_preprocd_data=True, load_prep_data=True, load_raw_data=True)"
   ]
  },
  {
   "cell_type": "markdown",
   "metadata": {
    "pycharm": {
     "name": "#%% md\n"
    }
   },
   "source": [
    "### 1.1 Raw data"
   ]
  },
  {
   "cell_type": "code",
   "execution_count": 3,
   "metadata": {},
   "outputs": [],
   "source": [
    "selected_columns = ['ReviewText']"
   ]
  },
  {
   "cell_type": "code",
   "execution_count": 4,
   "metadata": {
    "pycharm": {
     "name": "#%%\n"
    }
   },
   "outputs": [
    {
     "data": {
      "text/html": [
       "<div>\n",
       "<style scoped>\n",
       "    .dataframe tbody tr th:only-of-type {\n",
       "        vertical-align: middle;\n",
       "    }\n",
       "\n",
       "    .dataframe tbody tr th {\n",
       "        vertical-align: top;\n",
       "    }\n",
       "\n",
       "    .dataframe thead th {\n",
       "        text-align: right;\n",
       "    }\n",
       "</style>\n",
       "<table border=\"1\" class=\"dataframe\">\n",
       "  <thead>\n",
       "    <tr style=\"text-align: right;\">\n",
       "      <th></th>\n",
       "      <th>ReviewText</th>\n",
       "    </tr>\n",
       "  </thead>\n",
       "  <tbody>\n",
       "    <tr>\n",
       "      <th>0</th>\n",
       "      <td>got this 'used acceptable' from amazon - Face ...</td>\n",
       "    </tr>\n",
       "    <tr>\n",
       "      <th>1</th>\n",
       "      <td>I have really mixed feelngs about the roombas ...</td>\n",
       "    </tr>\n",
       "    <tr>\n",
       "      <th>2</th>\n",
       "      <td>We purchased this less than a year ago. It's n...</td>\n",
       "    </tr>\n",
       "    <tr>\n",
       "      <th>3</th>\n",
       "      <td>I purchased the iRobot for my wife so she woul...</td>\n",
       "    </tr>\n",
       "    <tr>\n",
       "      <th>4</th>\n",
       "      <td>This is a significant upgrade on previous vers...</td>\n",
       "    </tr>\n",
       "    <tr>\n",
       "      <th>...</th>\n",
       "      <td>...</td>\n",
       "    </tr>\n",
       "    <tr>\n",
       "      <th>185964</th>\n",
       "      <td>This is a lifesaver in a home with pets! It ru...</td>\n",
       "    </tr>\n",
       "    <tr>\n",
       "      <th>185965</th>\n",
       "      <td>We were very excited to have this product but ...</td>\n",
       "    </tr>\n",
       "    <tr>\n",
       "      <th>185966</th>\n",
       "      <td>Easy to install</td>\n",
       "    </tr>\n",
       "    <tr>\n",
       "      <th>185967</th>\n",
       "      <td>This was gifted to me by my husband. I friggin...</td>\n",
       "    </tr>\n",
       "    <tr>\n",
       "      <th>185968</th>\n",
       "      <td>Its an ok vacuum. Suction is decent for hard f...</td>\n",
       "    </tr>\n",
       "  </tbody>\n",
       "</table>\n",
       "<p>143217 rows × 1 columns</p>\n",
       "</div>"
      ],
      "text/plain": [
       "                                               ReviewText\n",
       "0       got this 'used acceptable' from amazon - Face ...\n",
       "1       I have really mixed feelngs about the roombas ...\n",
       "2       We purchased this less than a year ago. It's n...\n",
       "3       I purchased the iRobot for my wife so she woul...\n",
       "4       This is a significant upgrade on previous vers...\n",
       "...                                                   ...\n",
       "185964  This is a lifesaver in a home with pets! It ru...\n",
       "185965  We were very excited to have this product but ...\n",
       "185966                                    Easy to install\n",
       "185967  This was gifted to me by my husband. I friggin...\n",
       "185968  Its an ok vacuum. Suction is decent for hard f...\n",
       "\n",
       "[143217 rows x 1 columns]"
      ]
     },
     "execution_count": 4,
     "metadata": {},
     "output_type": "execute_result"
    }
   ],
   "source": [
    "# rvr.load_raw_data(verbose=True)\n",
    "rvc.raw_data[selected_columns]"
   ]
  },
  {
   "cell_type": "markdown",
   "metadata": {
    "pycharm": {
     "name": "#%% md\n"
    }
   },
   "source": [
    "### 1.2 Preparatory data"
   ]
  },
  {
   "cell_type": "code",
   "execution_count": 5,
   "metadata": {
    "pycharm": {
     "name": "#%%\n"
    }
   },
   "outputs": [
    {
     "data": {
      "text/html": [
       "<div>\n",
       "<style scoped>\n",
       "    .dataframe tbody tr th:only-of-type {\n",
       "        vertical-align: middle;\n",
       "    }\n",
       "\n",
       "    .dataframe tbody tr th {\n",
       "        vertical-align: top;\n",
       "    }\n",
       "\n",
       "    .dataframe thead th {\n",
       "        text-align: right;\n",
       "    }\n",
       "</style>\n",
       "<table border=\"1\" class=\"dataframe\">\n",
       "  <thead>\n",
       "    <tr style=\"text-align: right;\">\n",
       "      <th></th>\n",
       "      <th>ReviewText</th>\n",
       "    </tr>\n",
       "  </thead>\n",
       "  <tbody>\n",
       "    <tr>\n",
       "      <th>0</th>\n",
       "      <td>I hate when you cannot talk to a person! I nee...</td>\n",
       "    </tr>\n",
       "    <tr>\n",
       "      <th>1</th>\n",
       "      <td>Excited to have received my vacuum today. It w...</td>\n",
       "    </tr>\n",
       "    <tr>\n",
       "      <th>2</th>\n",
       "      <td>Great vacuum for the price it works better on ...</td>\n",
       "    </tr>\n",
       "    <tr>\n",
       "      <th>3</th>\n",
       "      <td>Honestly I wanted to give a try to robot. This...</td>\n",
       "    </tr>\n",
       "    <tr>\n",
       "      <th>4</th>\n",
       "      <td>I was hesitant to buy this robot because I am ...</td>\n",
       "    </tr>\n",
       "    <tr>\n",
       "      <th>...</th>\n",
       "      <td>...</td>\n",
       "    </tr>\n",
       "    <tr>\n",
       "      <th>143212</th>\n",
       "      <td>We have ours set to run every night. Every mor...</td>\n",
       "    </tr>\n",
       "    <tr>\n",
       "      <th>143213</th>\n",
       "      <td>This is an excellent robot vacuum that comes f...</td>\n",
       "    </tr>\n",
       "    <tr>\n",
       "      <th>143214</th>\n",
       "      <td>It does a good job cleaning the laminate floor...</td>\n",
       "    </tr>\n",
       "    <tr>\n",
       "      <th>143215</th>\n",
       "      <td>So easy to set up and use. I have 3 black labs...</td>\n",
       "    </tr>\n",
       "    <tr>\n",
       "      <th>143216</th>\n",
       "      <td>This little vacuum is great. Very easy to acce...</td>\n",
       "    </tr>\n",
       "  </tbody>\n",
       "</table>\n",
       "<p>143217 rows × 1 columns</p>\n",
       "</div>"
      ],
      "text/plain": [
       "                                               ReviewText\n",
       "0       I hate when you cannot talk to a person! I nee...\n",
       "1       Excited to have received my vacuum today. It w...\n",
       "2       Great vacuum for the price it works better on ...\n",
       "3       Honestly I wanted to give a try to robot. This...\n",
       "4       I was hesitant to buy this robot because I am ...\n",
       "...                                                   ...\n",
       "143212  We have ours set to run every night. Every mor...\n",
       "143213  This is an excellent robot vacuum that comes f...\n",
       "143214  It does a good job cleaning the laminate floor...\n",
       "143215  So easy to set up and use. I have 3 black labs...\n",
       "143216  This little vacuum is great. Very easy to acce...\n",
       "\n",
       "[143217 rows x 1 columns]"
      ]
     },
     "execution_count": 5,
     "metadata": {},
     "output_type": "execute_result"
    }
   ],
   "source": [
    "# rvc.load_prep_data(verbose=True)\n",
    "rvc.prep_data[selected_columns]"
   ]
  },
  {
   "cell_type": "markdown",
   "metadata": {
    "pycharm": {
     "name": "#%% md\n"
    }
   },
   "source": [
    "### 1.3 Preprocessed data"
   ]
  },
  {
   "cell_type": "code",
   "execution_count": 6,
   "metadata": {
    "pycharm": {
     "name": "#%%\n"
    }
   },
   "outputs": [
    {
     "data": {
      "text/html": [
       "<div>\n",
       "<style scoped>\n",
       "    .dataframe tbody tr th:only-of-type {\n",
       "        vertical-align: middle;\n",
       "    }\n",
       "\n",
       "    .dataframe tbody tr th {\n",
       "        vertical-align: top;\n",
       "    }\n",
       "\n",
       "    .dataframe thead th {\n",
       "        text-align: right;\n",
       "    }\n",
       "</style>\n",
       "<table border=\"1\" class=\"dataframe\">\n",
       "  <thead>\n",
       "    <tr style=\"text-align: right;\">\n",
       "      <th></th>\n",
       "      <th>ReviewText</th>\n",
       "      <th>review_text</th>\n",
       "      <th>sentiment</th>\n",
       "    </tr>\n",
       "  </thead>\n",
       "  <tbody>\n",
       "    <tr>\n",
       "      <th>0</th>\n",
       "      <td>I hate when you cannot talk to a person! I nee...</td>\n",
       "      <td>hate talk person need tech support email really</td>\n",
       "      <td>negative</td>\n",
       "    </tr>\n",
       "    <tr>\n",
       "      <th>1</th>\n",
       "      <td>Excited to have received my vacuum today. It w...</td>\n",
       "      <td>excited receive vacuum today well package manu...</td>\n",
       "      <td>positive</td>\n",
       "    </tr>\n",
       "    <tr>\n",
       "      <th>2</th>\n",
       "      <td>Great vacuum for the price it works better on ...</td>\n",
       "      <td>great vacuum price work well hardwood floor gr...</td>\n",
       "      <td>positive</td>\n",
       "    </tr>\n",
       "    <tr>\n",
       "      <th>3</th>\n",
       "      <td>Honestly I wanted to give a try to robot. This...</td>\n",
       "      <td>honestly want give try robot thing really work...</td>\n",
       "      <td>positive</td>\n",
       "    </tr>\n",
       "    <tr>\n",
       "      <th>4</th>\n",
       "      <td>I was hesitant to buy this robot because I am ...</td>\n",
       "      <td>hesitant buy robot simplicity robot look compl...</td>\n",
       "      <td>positive</td>\n",
       "    </tr>\n",
       "    <tr>\n",
       "      <th>...</th>\n",
       "      <td>...</td>\n",
       "      <td>...</td>\n",
       "      <td>...</td>\n",
       "    </tr>\n",
       "    <tr>\n",
       "      <th>143212</th>\n",
       "      <td>We have ours set to run every night. Every mor...</td>\n",
       "      <td>set run night morning wake find stick various ...</td>\n",
       "      <td>negative</td>\n",
       "    </tr>\n",
       "    <tr>\n",
       "      <th>143213</th>\n",
       "      <td>This is an excellent robot vacuum that comes f...</td>\n",
       "      <td>excellent robot vacuum come fully feature wet ...</td>\n",
       "      <td>positive</td>\n",
       "    </tr>\n",
       "    <tr>\n",
       "      <th>143214</th>\n",
       "      <td>It does a good job cleaning the laminate floor...</td>\n",
       "      <td>good job cleaning laminate floor carpet guess ...</td>\n",
       "      <td>positive</td>\n",
       "    </tr>\n",
       "    <tr>\n",
       "      <th>143215</th>\n",
       "      <td>So easy to set up and use. I have 3 black labs...</td>\n",
       "      <td>easy set use black lab pick dog hair love</td>\n",
       "      <td>positive</td>\n",
       "    </tr>\n",
       "    <tr>\n",
       "      <th>143216</th>\n",
       "      <td>This little vacuum is great. Very easy to acce...</td>\n",
       "      <td>little vacuum great easy access large expect e...</td>\n",
       "      <td>positive</td>\n",
       "    </tr>\n",
       "  </tbody>\n",
       "</table>\n",
       "<p>101608 rows × 3 columns</p>\n",
       "</div>"
      ],
      "text/plain": [
       "                                               ReviewText  \\\n",
       "0       I hate when you cannot talk to a person! I nee...   \n",
       "1       Excited to have received my vacuum today. It w...   \n",
       "2       Great vacuum for the price it works better on ...   \n",
       "3       Honestly I wanted to give a try to robot. This...   \n",
       "4       I was hesitant to buy this robot because I am ...   \n",
       "...                                                   ...   \n",
       "143212  We have ours set to run every night. Every mor...   \n",
       "143213  This is an excellent robot vacuum that comes f...   \n",
       "143214  It does a good job cleaning the laminate floor...   \n",
       "143215  So easy to set up and use. I have 3 black labs...   \n",
       "143216  This little vacuum is great. Very easy to acce...   \n",
       "\n",
       "                                              review_text sentiment  \n",
       "0         hate talk person need tech support email really  negative  \n",
       "1       excited receive vacuum today well package manu...  positive  \n",
       "2       great vacuum price work well hardwood floor gr...  positive  \n",
       "3       honestly want give try robot thing really work...  positive  \n",
       "4       hesitant buy robot simplicity robot look compl...  positive  \n",
       "...                                                   ...       ...  \n",
       "143212  set run night morning wake find stick various ...  negative  \n",
       "143213  excellent robot vacuum come fully feature wet ...  positive  \n",
       "143214  good job cleaning laminate floor carpet guess ...  positive  \n",
       "143215          easy set use black lab pick dog hair love  positive  \n",
       "143216  little vacuum great easy access large expect e...  positive  \n",
       "\n",
       "[101608 rows x 3 columns]"
      ]
     },
     "execution_count": 6,
     "metadata": {},
     "output_type": "execute_result"
    }
   ],
   "source": [
    "selected_columns += ['review_text', 'sentiment']\n",
    "preprocd_data = rvc.preprocd_data.copy()\n",
    "preprocd_data['sentiment'] = rvc.preprocd_data['sentiment_on_vs_score']\n",
    "preprocd_data[selected_columns]"
   ]
  },
  {
   "cell_type": "markdown",
   "metadata": {},
   "source": [
    "## 2. Traditional vacuum cleaners"
   ]
  },
  {
   "cell_type": "code",
   "execution_count": 7,
   "metadata": {},
   "outputs": [
    {
     "name": "stdout",
     "output_type": "stream",
     "text": [
      "Loading \"data\\amazon_reviews\\vacuum_cleaners\\traditional\\raw_data\\raw_data.pkl\" ... Done.\n",
      "Loading \"data\\amazon_reviews\\vacuum_cleaners\\traditional\\prep_data\\prep_data.pkl\" ... Done.\n",
      "Loading \"data\\amazon_reviews\\vacuum_cleaners\\traditional\\preprocd_data\\preprocd_data.pkl\" ... Done.\n"
     ]
    }
   ],
   "source": [
    "from src.processor import TraditionalVacuumCleaners\n",
    "\n",
    "tvc = TraditionalVacuumCleaners(load_preprocd_data=True, load_prep_data=True, load_raw_data=True)"
   ]
  },
  {
   "cell_type": "markdown",
   "metadata": {},
   "source": [
    "### 2.1 Raw data"
   ]
  },
  {
   "cell_type": "code",
   "execution_count": 8,
   "metadata": {},
   "outputs": [],
   "source": [
    "selected_columns = ['ReviewText']"
   ]
  },
  {
   "cell_type": "code",
   "execution_count": 9,
   "metadata": {},
   "outputs": [
    {
     "data": {
      "text/html": [
       "<div>\n",
       "<style scoped>\n",
       "    .dataframe tbody tr th:only-of-type {\n",
       "        vertical-align: middle;\n",
       "    }\n",
       "\n",
       "    .dataframe tbody tr th {\n",
       "        vertical-align: top;\n",
       "    }\n",
       "\n",
       "    .dataframe thead th {\n",
       "        text-align: right;\n",
       "    }\n",
       "</style>\n",
       "<table border=\"1\" class=\"dataframe\">\n",
       "  <thead>\n",
       "    <tr style=\"text-align: right;\">\n",
       "      <th></th>\n",
       "      <th>ReviewText</th>\n",
       "    </tr>\n",
       "  </thead>\n",
       "  <tbody>\n",
       "    <tr>\n",
       "      <th>0</th>\n",
       "      <td>Amazing vacuum but after 9 months the battery ...</td>\n",
       "    </tr>\n",
       "    <tr>\n",
       "      <th>1</th>\n",
       "      <td>This cordless stick vac was great until it was...</td>\n",
       "    </tr>\n",
       "    <tr>\n",
       "      <th>2</th>\n",
       "      <td>The battery only last 20-25 minute. Very disap...</td>\n",
       "    </tr>\n",
       "    <tr>\n",
       "      <th>3</th>\n",
       "      <td>I usually use a basic broom or my bigger vacuu...</td>\n",
       "    </tr>\n",
       "    <tr>\n",
       "      <th>4</th>\n",
       "      <td>It is the answer to areas where there might be...</td>\n",
       "    </tr>\n",
       "    <tr>\n",
       "      <th>...</th>\n",
       "      <td>...</td>\n",
       "    </tr>\n",
       "    <tr>\n",
       "      <th>321284</th>\n",
       "      <td>Great product. Easy to setup and use.</td>\n",
       "    </tr>\n",
       "    <tr>\n",
       "      <th>321285</th>\n",
       "      <td>Love this</td>\n",
       "    </tr>\n",
       "    <tr>\n",
       "      <th>321286</th>\n",
       "      <td>I've been needing a new vacuum and really liki...</td>\n",
       "    </tr>\n",
       "    <tr>\n",
       "      <th>321287</th>\n",
       "      <td>This is a great little vacuum for the price. I...</td>\n",
       "    </tr>\n",
       "    <tr>\n",
       "      <th>321288</th>\n",
       "      <td>I've been in the market for a cordless stick v...</td>\n",
       "    </tr>\n",
       "  </tbody>\n",
       "</table>\n",
       "<p>230479 rows × 1 columns</p>\n",
       "</div>"
      ],
      "text/plain": [
       "                                               ReviewText\n",
       "0       Amazing vacuum but after 9 months the battery ...\n",
       "1       This cordless stick vac was great until it was...\n",
       "2       The battery only last 20-25 minute. Very disap...\n",
       "3       I usually use a basic broom or my bigger vacuu...\n",
       "4       It is the answer to areas where there might be...\n",
       "...                                                   ...\n",
       "321284              Great product. Easy to setup and use.\n",
       "321285                                          Love this\n",
       "321286  I've been needing a new vacuum and really liki...\n",
       "321287  This is a great little vacuum for the price. I...\n",
       "321288  I've been in the market for a cordless stick v...\n",
       "\n",
       "[230479 rows x 1 columns]"
      ]
     },
     "execution_count": 9,
     "metadata": {},
     "output_type": "execute_result"
    }
   ],
   "source": [
    "# tvr.load_raw_data(verbose=True)\n",
    "tvc.raw_data[selected_columns]"
   ]
  },
  {
   "cell_type": "markdown",
   "metadata": {},
   "source": [
    "### 2.2 Preparatory data"
   ]
  },
  {
   "cell_type": "code",
   "execution_count": 10,
   "metadata": {},
   "outputs": [
    {
     "data": {
      "text/html": [
       "<div>\n",
       "<style scoped>\n",
       "    .dataframe tbody tr th:only-of-type {\n",
       "        vertical-align: middle;\n",
       "    }\n",
       "\n",
       "    .dataframe tbody tr th {\n",
       "        vertical-align: top;\n",
       "    }\n",
       "\n",
       "    .dataframe thead th {\n",
       "        text-align: right;\n",
       "    }\n",
       "</style>\n",
       "<table border=\"1\" class=\"dataframe\">\n",
       "  <thead>\n",
       "    <tr style=\"text-align: right;\">\n",
       "      <th></th>\n",
       "      <th>ReviewText</th>\n",
       "    </tr>\n",
       "  </thead>\n",
       "  <tbody>\n",
       "    <tr>\n",
       "      <th>0</th>\n",
       "      <td>I use this for a quick sweep of the rec room e...</td>\n",
       "    </tr>\n",
       "    <tr>\n",
       "      <th>1</th>\n",
       "      <td>I have a dog and 4 cats and this was super hel...</td>\n",
       "    </tr>\n",
       "    <tr>\n",
       "      <th>2</th>\n",
       "      <td>I do not know what 25Kpa power is relative to ...</td>\n",
       "    </tr>\n",
       "    <tr>\n",
       "      <th>3</th>\n",
       "      <td>I have only been using this 2 wks so far since...</td>\n",
       "    </tr>\n",
       "    <tr>\n",
       "      <th>4</th>\n",
       "      <td>Love there are 2 batteries! Charge one use one...</td>\n",
       "    </tr>\n",
       "    <tr>\n",
       "      <th>...</th>\n",
       "      <td>...</td>\n",
       "    </tr>\n",
       "    <tr>\n",
       "      <th>230474</th>\n",
       "      <td>It ’ s got all the attachments and an extra he...</td>\n",
       "    </tr>\n",
       "    <tr>\n",
       "      <th>230475</th>\n",
       "      <td>I liked how lightweight. Good suction, easy to...</td>\n",
       "    </tr>\n",
       "    <tr>\n",
       "      <th>230476</th>\n",
       "      <td>Great vacuum that works as well if not better ...</td>\n",
       "    </tr>\n",
       "    <tr>\n",
       "      <th>230477</th>\n",
       "      <td>Nice and light, good suction, however the batt...</td>\n",
       "    </tr>\n",
       "    <tr>\n",
       "      <th>230478</th>\n",
       "      <td>I bought this as a furniture vacuum because we...</td>\n",
       "    </tr>\n",
       "  </tbody>\n",
       "</table>\n",
       "<p>230479 rows × 1 columns</p>\n",
       "</div>"
      ],
      "text/plain": [
       "                                               ReviewText\n",
       "0       I use this for a quick sweep of the rec room e...\n",
       "1       I have a dog and 4 cats and this was super hel...\n",
       "2       I do not know what 25Kpa power is relative to ...\n",
       "3       I have only been using this 2 wks so far since...\n",
       "4       Love there are 2 batteries! Charge one use one...\n",
       "...                                                   ...\n",
       "230474  It ’ s got all the attachments and an extra he...\n",
       "230475  I liked how lightweight. Good suction, easy to...\n",
       "230476  Great vacuum that works as well if not better ...\n",
       "230477  Nice and light, good suction, however the batt...\n",
       "230478  I bought this as a furniture vacuum because we...\n",
       "\n",
       "[230479 rows x 1 columns]"
      ]
     },
     "execution_count": 10,
     "metadata": {},
     "output_type": "execute_result"
    }
   ],
   "source": [
    "# tvc.load_prep_data(verbose=True)\n",
    "tvc.prep_data[selected_columns]"
   ]
  },
  {
   "cell_type": "markdown",
   "metadata": {},
   "source": [
    "### 2.3 Preprocessed data"
   ]
  },
  {
   "cell_type": "code",
   "execution_count": 11,
   "metadata": {},
   "outputs": [
    {
     "data": {
      "text/html": [
       "<div>\n",
       "<style scoped>\n",
       "    .dataframe tbody tr th:only-of-type {\n",
       "        vertical-align: middle;\n",
       "    }\n",
       "\n",
       "    .dataframe tbody tr th {\n",
       "        vertical-align: top;\n",
       "    }\n",
       "\n",
       "    .dataframe thead th {\n",
       "        text-align: right;\n",
       "    }\n",
       "</style>\n",
       "<table border=\"1\" class=\"dataframe\">\n",
       "  <thead>\n",
       "    <tr style=\"text-align: right;\">\n",
       "      <th></th>\n",
       "      <th>ReviewText</th>\n",
       "      <th>review_text</th>\n",
       "      <th>sentiment</th>\n",
       "    </tr>\n",
       "  </thead>\n",
       "  <tbody>\n",
       "    <tr>\n",
       "      <th>0</th>\n",
       "      <td>I use this for a quick sweep of the rec room e...</td>\n",
       "      <td>use quick sweep rec room week light easy use l...</td>\n",
       "      <td>positive</td>\n",
       "    </tr>\n",
       "    <tr>\n",
       "      <th>1</th>\n",
       "      <td>I have a dog and 4 cats and this was super hel...</td>\n",
       "      <td>dog cat super helpful compare regular high qua...</td>\n",
       "      <td>positive</td>\n",
       "    </tr>\n",
       "    <tr>\n",
       "      <th>2</th>\n",
       "      <td>I do not know what 25Kpa power is relative to ...</td>\n",
       "      <td>know relative vacuum small dry electric vacuum...</td>\n",
       "      <td>negative</td>\n",
       "    </tr>\n",
       "    <tr>\n",
       "      <th>3</th>\n",
       "      <td>I have only been using this 2 wks so far since...</td>\n",
       "      <td>use far move complaint continue meet expectati...</td>\n",
       "      <td>positive</td>\n",
       "    </tr>\n",
       "    <tr>\n",
       "      <th>4</th>\n",
       "      <td>Love there are 2 batteries! Charge one use one...</td>\n",
       "      <td>love battery charge use always ready use last ...</td>\n",
       "      <td>positive</td>\n",
       "    </tr>\n",
       "    <tr>\n",
       "      <th>...</th>\n",
       "      <td>...</td>\n",
       "      <td>...</td>\n",
       "      <td>...</td>\n",
       "    </tr>\n",
       "    <tr>\n",
       "      <th>230473</th>\n",
       "      <td>My partner and I live in a 1000 + sqft 2bd 2br...</td>\n",
       "      <td>partner live apartment dog figure convenient h...</td>\n",
       "      <td>positive</td>\n",
       "    </tr>\n",
       "    <tr>\n",
       "      <th>230474</th>\n",
       "      <td>It ’ s got all the attachments and an extra he...</td>\n",
       "      <td>get attachment extra hepa filter term suction ...</td>\n",
       "      <td>positive</td>\n",
       "    </tr>\n",
       "    <tr>\n",
       "      <th>230475</th>\n",
       "      <td>I liked how lightweight. Good suction, easy to...</td>\n",
       "      <td>like lightweight good suction easy take apart ...</td>\n",
       "      <td>positive</td>\n",
       "    </tr>\n",
       "    <tr>\n",
       "      <th>230476</th>\n",
       "      <td>Great vacuum that works as well if not better ...</td>\n",
       "      <td>great vacuum work well well dyson pay lot diff...</td>\n",
       "      <td>positive</td>\n",
       "    </tr>\n",
       "    <tr>\n",
       "      <th>230478</th>\n",
       "      <td>I bought this as a furniture vacuum because we...</td>\n",
       "      <td>buy furniture vacuum cat hate break corded flo...</td>\n",
       "      <td>positive</td>\n",
       "    </tr>\n",
       "  </tbody>\n",
       "</table>\n",
       "<p>146656 rows × 3 columns</p>\n",
       "</div>"
      ],
      "text/plain": [
       "                                               ReviewText  \\\n",
       "0       I use this for a quick sweep of the rec room e...   \n",
       "1       I have a dog and 4 cats and this was super hel...   \n",
       "2       I do not know what 25Kpa power is relative to ...   \n",
       "3       I have only been using this 2 wks so far since...   \n",
       "4       Love there are 2 batteries! Charge one use one...   \n",
       "...                                                   ...   \n",
       "230473  My partner and I live in a 1000 + sqft 2bd 2br...   \n",
       "230474  It ’ s got all the attachments and an extra he...   \n",
       "230475  I liked how lightweight. Good suction, easy to...   \n",
       "230476  Great vacuum that works as well if not better ...   \n",
       "230478  I bought this as a furniture vacuum because we...   \n",
       "\n",
       "                                              review_text sentiment  \n",
       "0       use quick sweep rec room week light easy use l...  positive  \n",
       "1       dog cat super helpful compare regular high qua...  positive  \n",
       "2       know relative vacuum small dry electric vacuum...  negative  \n",
       "3       use far move complaint continue meet expectati...  positive  \n",
       "4       love battery charge use always ready use last ...  positive  \n",
       "...                                                   ...       ...  \n",
       "230473  partner live apartment dog figure convenient h...  positive  \n",
       "230474  get attachment extra hepa filter term suction ...  positive  \n",
       "230475  like lightweight good suction easy take apart ...  positive  \n",
       "230476  great vacuum work well well dyson pay lot diff...  positive  \n",
       "230478  buy furniture vacuum cat hate break corded flo...  positive  \n",
       "\n",
       "[146656 rows x 3 columns]"
      ]
     },
     "execution_count": 11,
     "metadata": {},
     "output_type": "execute_result"
    }
   ],
   "source": [
    "selected_columns += ['review_text', 'sentiment']\n",
    "preprocd_data = tvc.preprocd_data.copy()\n",
    "preprocd_data['sentiment'] = tvc.preprocd_data['sentiment_on_vs_score']\n",
    "preprocd_data[selected_columns]"
   ]
  },
  {
   "cell_type": "markdown",
   "metadata": {},
   "source": [
    "## 3. Smart thermostats"
   ]
  },
  {
   "cell_type": "code",
   "execution_count": 12,
   "metadata": {},
   "outputs": [
    {
     "name": "stdout",
     "output_type": "stream",
     "text": [
      "Loading \"data\\amazon_reviews\\thermostats\\smart\\raw_data\\raw_data.pkl\" ... Done.\n",
      "Loading \"data\\amazon_reviews\\thermostats\\smart\\prep_data\\prep_data.pkl\" ... Done.\n",
      "Loading \"data\\amazon_reviews\\thermostats\\smart\\preprocd_data\\preprocd_data.pkl\" ... Done.\n"
     ]
    }
   ],
   "source": [
    "from src.processor import SmartThermostats\n",
    "\n",
    "smt = SmartThermostats(load_preprocd_data=True, load_prep_data=True, load_raw_data=True)"
   ]
  },
  {
   "cell_type": "markdown",
   "metadata": {},
   "source": [
    "### 3.1 Raw data"
   ]
  },
  {
   "cell_type": "code",
   "execution_count": 13,
   "metadata": {},
   "outputs": [],
   "source": [
    "selected_columns = ['ReviewText']"
   ]
  },
  {
   "cell_type": "code",
   "execution_count": 14,
   "metadata": {},
   "outputs": [
    {
     "data": {
      "text/html": [
       "<div>\n",
       "<style scoped>\n",
       "    .dataframe tbody tr th:only-of-type {\n",
       "        vertical-align: middle;\n",
       "    }\n",
       "\n",
       "    .dataframe tbody tr th {\n",
       "        vertical-align: top;\n",
       "    }\n",
       "\n",
       "    .dataframe thead th {\n",
       "        text-align: right;\n",
       "    }\n",
       "</style>\n",
       "<table border=\"1\" class=\"dataframe\">\n",
       "  <thead>\n",
       "    <tr style=\"text-align: right;\">\n",
       "      <th></th>\n",
       "      <th>ReviewText</th>\n",
       "    </tr>\n",
       "  </thead>\n",
       "  <tbody>\n",
       "    <tr>\n",
       "      <th>0</th>\n",
       "      <td>Installation was super easy but the unit set t...</td>\n",
       "    </tr>\n",
       "    <tr>\n",
       "      <th>1</th>\n",
       "      <td>I really wanted to like this product. Humidity...</td>\n",
       "    </tr>\n",
       "    <tr>\n",
       "      <th>2</th>\n",
       "      <td>I like the new Nest thermostat 2020. Elegant a...</td>\n",
       "    </tr>\n",
       "    <tr>\n",
       "      <th>3</th>\n",
       "      <td>Easy to install. Works as advertised</td>\n",
       "    </tr>\n",
       "    <tr>\n",
       "      <th>4</th>\n",
       "      <td>Easy set up</td>\n",
       "    </tr>\n",
       "    <tr>\n",
       "      <th>...</th>\n",
       "      <td>...</td>\n",
       "    </tr>\n",
       "    <tr>\n",
       "      <th>55681</th>\n",
       "      <td>I ordered this item to replace some old non-an...</td>\n",
       "    </tr>\n",
       "    <tr>\n",
       "      <th>55682</th>\n",
       "      <td>I have the Honeywell YRLV430A in other rooms i...</td>\n",
       "    </tr>\n",
       "    <tr>\n",
       "      <th>55683</th>\n",
       "      <td>i purchased 4 of these themostats for a friend...</td>\n",
       "    </tr>\n",
       "    <tr>\n",
       "      <th>55684</th>\n",
       "      <td>I've had this going on a year now. So much bet...</td>\n",
       "    </tr>\n",
       "    <tr>\n",
       "      <th>55685</th>\n",
       "      <td>Very cost effective thermostat. It is extremel...</td>\n",
       "    </tr>\n",
       "  </tbody>\n",
       "</table>\n",
       "<p>50835 rows × 1 columns</p>\n",
       "</div>"
      ],
      "text/plain": [
       "                                              ReviewText\n",
       "0      Installation was super easy but the unit set t...\n",
       "1      I really wanted to like this product. Humidity...\n",
       "2      I like the new Nest thermostat 2020. Elegant a...\n",
       "3                   Easy to install. Works as advertised\n",
       "4                                            Easy set up\n",
       "...                                                  ...\n",
       "55681  I ordered this item to replace some old non-an...\n",
       "55682  I have the Honeywell YRLV430A in other rooms i...\n",
       "55683  i purchased 4 of these themostats for a friend...\n",
       "55684  I've had this going on a year now. So much bet...\n",
       "55685  Very cost effective thermostat. It is extremel...\n",
       "\n",
       "[50835 rows x 1 columns]"
      ]
     },
     "execution_count": 14,
     "metadata": {},
     "output_type": "execute_result"
    }
   ],
   "source": [
    "# smt.load_raw_data(verbose=True)\n",
    "smt.raw_data[selected_columns]"
   ]
  },
  {
   "cell_type": "markdown",
   "metadata": {},
   "source": [
    "### 3.2 Preparatory data"
   ]
  },
  {
   "cell_type": "code",
   "execution_count": 15,
   "metadata": {},
   "outputs": [
    {
     "data": {
      "text/html": [
       "<div>\n",
       "<style scoped>\n",
       "    .dataframe tbody tr th:only-of-type {\n",
       "        vertical-align: middle;\n",
       "    }\n",
       "\n",
       "    .dataframe tbody tr th {\n",
       "        vertical-align: top;\n",
       "    }\n",
       "\n",
       "    .dataframe thead th {\n",
       "        text-align: right;\n",
       "    }\n",
       "</style>\n",
       "<table border=\"1\" class=\"dataframe\">\n",
       "  <thead>\n",
       "    <tr style=\"text-align: right;\">\n",
       "      <th></th>\n",
       "      <th>ReviewText</th>\n",
       "    </tr>\n",
       "  </thead>\n",
       "  <tbody>\n",
       "    <tr>\n",
       "      <th>0</th>\n",
       "      <td>Great to be able to control thermostat remotel...</td>\n",
       "    </tr>\n",
       "    <tr>\n",
       "      <th>1</th>\n",
       "      <td>It is ok... simple unit but who the hell canno...</td>\n",
       "    </tr>\n",
       "    <tr>\n",
       "      <th>2</th>\n",
       "      <td>This product is fine but older technology. I a...</td>\n",
       "    </tr>\n",
       "    <tr>\n",
       "      <th>3</th>\n",
       "      <td>Since I have had my new Bosch system installed...</td>\n",
       "    </tr>\n",
       "    <tr>\n",
       "      <th>4</th>\n",
       "      <td>Have had this installed for almost 2 months no...</td>\n",
       "    </tr>\n",
       "    <tr>\n",
       "      <th>...</th>\n",
       "      <td>...</td>\n",
       "    </tr>\n",
       "    <tr>\n",
       "      <th>50830</th>\n",
       "      <td>The online install wizard made this thermostat...</td>\n",
       "    </tr>\n",
       "    <tr>\n",
       "      <th>50831</th>\n",
       "      <td>Works GREAT with iPhone &amp; ALEXA!</td>\n",
       "    </tr>\n",
       "    <tr>\n",
       "      <th>50832</th>\n",
       "      <td>You cannot install this thermostat from readin...</td>\n",
       "    </tr>\n",
       "    <tr>\n",
       "      <th>50833</th>\n",
       "      <td>Had to return because of heat pump issues bein...</td>\n",
       "    </tr>\n",
       "    <tr>\n",
       "      <th>50834</th>\n",
       "      <td>After purchasing several thermostats prior whe...</td>\n",
       "    </tr>\n",
       "  </tbody>\n",
       "</table>\n",
       "<p>50835 rows × 1 columns</p>\n",
       "</div>"
      ],
      "text/plain": [
       "                                              ReviewText\n",
       "0      Great to be able to control thermostat remotel...\n",
       "1      It is ok... simple unit but who the hell canno...\n",
       "2      This product is fine but older technology. I a...\n",
       "3      Since I have had my new Bosch system installed...\n",
       "4      Have had this installed for almost 2 months no...\n",
       "...                                                  ...\n",
       "50830  The online install wizard made this thermostat...\n",
       "50831                   Works GREAT with iPhone & ALEXA!\n",
       "50832  You cannot install this thermostat from readin...\n",
       "50833  Had to return because of heat pump issues bein...\n",
       "50834  After purchasing several thermostats prior whe...\n",
       "\n",
       "[50835 rows x 1 columns]"
      ]
     },
     "execution_count": 15,
     "metadata": {},
     "output_type": "execute_result"
    }
   ],
   "source": [
    "# smt.load_prep_data(verbose=True)\n",
    "smt.prep_data[selected_columns]"
   ]
  },
  {
   "cell_type": "markdown",
   "metadata": {},
   "source": [
    "### 3.3 Preprocessed data"
   ]
  },
  {
   "cell_type": "code",
   "execution_count": 16,
   "metadata": {},
   "outputs": [
    {
     "data": {
      "text/html": [
       "<div>\n",
       "<style scoped>\n",
       "    .dataframe tbody tr th:only-of-type {\n",
       "        vertical-align: middle;\n",
       "    }\n",
       "\n",
       "    .dataframe tbody tr th {\n",
       "        vertical-align: top;\n",
       "    }\n",
       "\n",
       "    .dataframe thead th {\n",
       "        text-align: right;\n",
       "    }\n",
       "</style>\n",
       "<table border=\"1\" class=\"dataframe\">\n",
       "  <thead>\n",
       "    <tr style=\"text-align: right;\">\n",
       "      <th></th>\n",
       "      <th>ReviewText</th>\n",
       "      <th>review_text</th>\n",
       "      <th>sentiment</th>\n",
       "    </tr>\n",
       "  </thead>\n",
       "  <tbody>\n",
       "    <tr>\n",
       "      <th>0</th>\n",
       "      <td>Great to be able to control thermostat remotel...</td>\n",
       "      <td>great able control thermostat remotely work fi...</td>\n",
       "      <td>positive</td>\n",
       "    </tr>\n",
       "    <tr>\n",
       "      <th>1</th>\n",
       "      <td>It is ok... simple unit but who the hell canno...</td>\n",
       "      <td>simple unit turn fan unit need use phone</td>\n",
       "      <td>negative</td>\n",
       "    </tr>\n",
       "    <tr>\n",
       "      <th>2</th>\n",
       "      <td>This product is fine but older technology. I a...</td>\n",
       "      <td>product fine old technology keep alarm com int...</td>\n",
       "      <td>positive</td>\n",
       "    </tr>\n",
       "    <tr>\n",
       "      <th>3</th>\n",
       "      <td>Since I have had my new Bosch system installed...</td>\n",
       "      <td>new bosch system instal thermostat cause many ...</td>\n",
       "      <td>positive</td>\n",
       "    </tr>\n",
       "    <tr>\n",
       "      <th>4</th>\n",
       "      <td>Have had this installed for almost 2 months no...</td>\n",
       "      <td>instal almost month work great second ready in...</td>\n",
       "      <td>positive</td>\n",
       "    </tr>\n",
       "    <tr>\n",
       "      <th>...</th>\n",
       "      <td>...</td>\n",
       "      <td>...</td>\n",
       "      <td>...</td>\n",
       "    </tr>\n",
       "    <tr>\n",
       "      <th>50830</th>\n",
       "      <td>The online install wizard made this thermostat...</td>\n",
       "      <td>wizard make thermostat easy install great repl...</td>\n",
       "      <td>positive</td>\n",
       "    </tr>\n",
       "    <tr>\n",
       "      <th>50831</th>\n",
       "      <td>Works GREAT with iPhone &amp; ALEXA!</td>\n",
       "      <td>work great iphone alexa</td>\n",
       "      <td>positive</td>\n",
       "    </tr>\n",
       "    <tr>\n",
       "      <th>50832</th>\n",
       "      <td>You cannot install this thermostat from readin...</td>\n",
       "      <td>install thermostat read installation manual go...</td>\n",
       "      <td>positive</td>\n",
       "    </tr>\n",
       "    <tr>\n",
       "      <th>50833</th>\n",
       "      <td>Had to return because of heat pump issues bein...</td>\n",
       "      <td>return heat pump issue incompatible device ins...</td>\n",
       "      <td>positive</td>\n",
       "    </tr>\n",
       "    <tr>\n",
       "      <th>50834</th>\n",
       "      <td>After purchasing several thermostats prior whe...</td>\n",
       "      <td>purchase several thermostat prior wifi well ca...</td>\n",
       "      <td>neutral</td>\n",
       "    </tr>\n",
       "  </tbody>\n",
       "</table>\n",
       "<p>46317 rows × 3 columns</p>\n",
       "</div>"
      ],
      "text/plain": [
       "                                              ReviewText  \\\n",
       "0      Great to be able to control thermostat remotel...   \n",
       "1      It is ok... simple unit but who the hell canno...   \n",
       "2      This product is fine but older technology. I a...   \n",
       "3      Since I have had my new Bosch system installed...   \n",
       "4      Have had this installed for almost 2 months no...   \n",
       "...                                                  ...   \n",
       "50830  The online install wizard made this thermostat...   \n",
       "50831                   Works GREAT with iPhone & ALEXA!   \n",
       "50832  You cannot install this thermostat from readin...   \n",
       "50833  Had to return because of heat pump issues bein...   \n",
       "50834  After purchasing several thermostats prior whe...   \n",
       "\n",
       "                                             review_text sentiment  \n",
       "0      great able control thermostat remotely work fi...  positive  \n",
       "1               simple unit turn fan unit need use phone  negative  \n",
       "2      product fine old technology keep alarm com int...  positive  \n",
       "3      new bosch system instal thermostat cause many ...  positive  \n",
       "4      instal almost month work great second ready in...  positive  \n",
       "...                                                  ...       ...  \n",
       "50830  wizard make thermostat easy install great repl...  positive  \n",
       "50831                            work great iphone alexa  positive  \n",
       "50832  install thermostat read installation manual go...  positive  \n",
       "50833  return heat pump issue incompatible device ins...  positive  \n",
       "50834  purchase several thermostat prior wifi well ca...   neutral  \n",
       "\n",
       "[46317 rows x 3 columns]"
      ]
     },
     "execution_count": 16,
     "metadata": {},
     "output_type": "execute_result"
    }
   ],
   "source": [
    "selected_columns += ['review_text', 'sentiment']\n",
    "preprocd_data = smt.preprocd_data.copy()\n",
    "preprocd_data['sentiment'] = smt.preprocd_data['sentiment_on_vs_score']\n",
    "preprocd_data[selected_columns]"
   ]
  },
  {
   "cell_type": "markdown",
   "metadata": {},
   "source": [
    "---"
   ]
  }
 ],
 "metadata": {
  "kernelspec": {
   "display_name": "Python 3 (ipykernel)",
   "language": "python",
   "name": "python3"
  },
  "language_info": {
   "codemirror_mode": {
    "name": "ipython",
    "version": 3
   },
   "file_extension": ".py",
   "mimetype": "text/x-python",
   "name": "python",
   "nbconvert_exporter": "python",
   "pygments_lexer": "ipython3",
   "version": "3.10.13"
  },
  "widgets": {
   "application/vnd.jupyter.widget-state+json": {
    "state": {},
    "version_major": 2,
    "version_minor": 0
   }
  }
 },
 "nbformat": 4,
 "nbformat_minor": 4
}
