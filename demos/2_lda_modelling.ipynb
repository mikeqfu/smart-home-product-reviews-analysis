{
 "cells": [
  {
   "cell_type": "code",
   "execution_count": 1,
   "metadata": {},
   "outputs": [],
   "source": [
    "%%capture\n",
    "%cd .."
   ]
  },
  {
   "cell_type": "markdown",
   "metadata": {},
   "source": [
    "# Case study - LDA for the reviews of robotic vacuums"
   ]
  },
  {
   "cell_type": "markdown",
   "metadata": {},
   "source": [
    "## 1. Initialisation"
   ]
  },
  {
   "cell_type": "code",
   "execution_count": 2,
   "metadata": {},
   "outputs": [],
   "source": [
    "%%capture\n",
    "\n",
    "import pyLDAvis\n",
    "import pyLDAvis.gensim_models\n",
    "\n",
    "pyLDAvis.enable_notebook()\n",
    "\n",
    "import gc\n",
    "import gensim.utils\n",
    "from pyhelpers.dirs import cdd\n",
    "from pyhelpers.store import save_data, load_data\n",
    "\n",
    "from src.modeller import LatentDirichletAllocation"
   ]
  },
  {
   "cell_type": "code",
   "execution_count": 3,
   "metadata": {},
   "outputs": [
    {
     "name": "stdout",
     "output_type": "stream",
     "text": [
      "Loading \"data\\amazon_reviews\\vacuum_cleaners\\robotic\\preprocd_data\\preprocd_data.pkl\" ... Done.\n"
     ]
    },
    {
     "data": {
      "text/html": [
       "<div>\n",
       "<style scoped>\n",
       "    .dataframe tbody tr th:only-of-type {\n",
       "        vertical-align: middle;\n",
       "    }\n",
       "\n",
       "    .dataframe tbody tr th {\n",
       "        vertical-align: top;\n",
       "    }\n",
       "\n",
       "    .dataframe thead th {\n",
       "        text-align: right;\n",
       "    }\n",
       "</style>\n",
       "<table border=\"1\" class=\"dataframe\">\n",
       "  <thead>\n",
       "    <tr style=\"text-align: right;\">\n",
       "      <th></th>\n",
       "      <th>review_text</th>\n",
       "      <th>sentiment_on_dual_scale</th>\n",
       "    </tr>\n",
       "  </thead>\n",
       "  <tbody>\n",
       "    <tr>\n",
       "      <th>0</th>\n",
       "      <td>hate talk person need tech support email really</td>\n",
       "      <td>negative</td>\n",
       "    </tr>\n",
       "    <tr>\n",
       "      <th>1</th>\n",
       "      <td>excited receive vacuum today well package manu...</td>\n",
       "      <td>positive</td>\n",
       "    </tr>\n",
       "    <tr>\n",
       "      <th>2</th>\n",
       "      <td>great vacuum price work well hardwood floor gr...</td>\n",
       "      <td>positive</td>\n",
       "    </tr>\n",
       "    <tr>\n",
       "      <th>3</th>\n",
       "      <td>honestly want give try robot thing really work...</td>\n",
       "      <td>positive</td>\n",
       "    </tr>\n",
       "    <tr>\n",
       "      <th>4</th>\n",
       "      <td>hesitant buy robot simplicity robot look compl...</td>\n",
       "      <td>positive</td>\n",
       "    </tr>\n",
       "    <tr>\n",
       "      <th>...</th>\n",
       "      <td>...</td>\n",
       "      <td>...</td>\n",
       "    </tr>\n",
       "    <tr>\n",
       "      <th>77770</th>\n",
       "      <td>set run night morning wake find stick various ...</td>\n",
       "      <td>negative</td>\n",
       "    </tr>\n",
       "    <tr>\n",
       "      <th>77771</th>\n",
       "      <td>excellent robot vacuum come fully feature wet ...</td>\n",
       "      <td>positive</td>\n",
       "    </tr>\n",
       "    <tr>\n",
       "      <th>77772</th>\n",
       "      <td>good job cleaning laminate floor carpet guess ...</td>\n",
       "      <td>positive</td>\n",
       "    </tr>\n",
       "    <tr>\n",
       "      <th>77773</th>\n",
       "      <td>easy set use black lab pick dog hair love</td>\n",
       "      <td>positive</td>\n",
       "    </tr>\n",
       "    <tr>\n",
       "      <th>77774</th>\n",
       "      <td>little vacuum great easy access large expect e...</td>\n",
       "      <td>positive</td>\n",
       "    </tr>\n",
       "  </tbody>\n",
       "</table>\n",
       "<p>77775 rows × 2 columns</p>\n",
       "</div>"
      ],
      "text/plain": [
       "                                             review_text  \\\n",
       "0        hate talk person need tech support email really   \n",
       "1      excited receive vacuum today well package manu...   \n",
       "2      great vacuum price work well hardwood floor gr...   \n",
       "3      honestly want give try robot thing really work...   \n",
       "4      hesitant buy robot simplicity robot look compl...   \n",
       "...                                                  ...   \n",
       "77770  set run night morning wake find stick various ...   \n",
       "77771  excellent robot vacuum come fully feature wet ...   \n",
       "77772  good job cleaning laminate floor carpet guess ...   \n",
       "77773          easy set use black lab pick dog hair love   \n",
       "77774  little vacuum great easy access large expect e...   \n",
       "\n",
       "      sentiment_on_dual_scale  \n",
       "0                    negative  \n",
       "1                    positive  \n",
       "2                    positive  \n",
       "3                    positive  \n",
       "4                    positive  \n",
       "...                       ...  \n",
       "77770                negative  \n",
       "77771                positive  \n",
       "77772                positive  \n",
       "77773                positive  \n",
       "77774                positive  \n",
       "\n",
       "[77775 rows x 2 columns]"
      ]
     },
     "execution_count": 3,
     "metadata": {},
     "output_type": "execute_result"
    }
   ],
   "source": [
    "lda = LatentDirichletAllocation(product_category='vacuum', product_type='robotic')\n",
    "\n",
    "data = lda.data.copy()\n",
    "data[['review_text', 'sentiment_on_dual_scale']]"
   ]
  },
  {
   "cell_type": "markdown",
   "metadata": {},
   "source": [
    "## 2. Preparation of input data - An example"
   ]
  },
  {
   "cell_type": "markdown",
   "metadata": {},
   "source": [
    "### 2.1 Positive reviews"
   ]
  },
  {
   "cell_type": "code",
   "execution_count": 4,
   "metadata": {},
   "outputs": [
    {
     "data": {
      "text/plain": [
       "'excited receive vacuum today well package manufacturer great visual appeal surprisingly easy set install first thing notice sleek elegant design pretty impressed tire make rubber pretty solid different textured flooring'"
      ]
     },
     "execution_count": 4,
     "metadata": {},
     "output_type": "execute_result"
    }
   ],
   "source": [
    "sentiment = 'positive'\n",
    "\n",
    "docs = data[data[lda.sentiment_column_name] == sentiment][lda.review_column_name]\n",
    "docs.iloc[0]"
   ]
  },
  {
   "cell_type": "markdown",
   "metadata": {},
   "source": [
    "#### 2.1.1 Get tokenized docs"
   ]
  },
  {
   "cell_type": "code",
   "execution_count": 5,
   "metadata": {
    "tags": []
   },
   "outputs": [
    {
     "data": {
      "text/plain": [
       "['excited',\n",
       " 'receive',\n",
       " 'package',\n",
       " 'manufacturer',\n",
       " 'visual',\n",
       " 'appeal',\n",
       " 'easy',\n",
       " 'set',\n",
       " 'install',\n",
       " 'notice',\n",
       " 'sleek',\n",
       " 'elegant',\n",
       " 'design',\n",
       " 'pretty',\n",
       " 'tire',\n",
       " 'rubber',\n",
       " 'pretty',\n",
       " 'solid',\n",
       " 'different',\n",
       " 'textured',\n",
       " 'flooring']"
      ]
     },
     "execution_count": 5,
     "metadata": {},
     "output_type": "execute_result"
    }
   ],
   "source": [
    "tokenized_docs = lda.get_tokenized_docs(docs=docs, sentiment=sentiment)\n",
    "tokenized_docs[0]"
   ]
  },
  {
   "cell_type": "markdown",
   "metadata": {},
   "source": [
    "#### 2.1.2 Make a corpus"
   ]
  },
  {
   "cell_type": "code",
   "execution_count": 6,
   "metadata": {},
   "outputs": [],
   "source": [
    "ngram = 3\n",
    "min_count = 1\n",
    "threshold = 10e-5\n",
    "\n",
    "corpus, id2word, texts = lda.make_corpus(\n",
    "    tokenized_docs=tokenized_docs, ngram=ngram, min_count=min_count, threshold=threshold, \n",
    "    scoring='npmi')"
   ]
  },
  {
   "cell_type": "code",
   "execution_count": 7,
   "metadata": {},
   "outputs": [
    {
     "data": {
      "text/plain": [
       "['excited_receive',\n",
       " 'package_manufacturer',\n",
       " 'visual_appeal',\n",
       " 'easy_set',\n",
       " 'install_notice',\n",
       " 'sleek_elegant',\n",
       " 'design_pretty',\n",
       " 'tire_rubber',\n",
       " 'pretty_solid',\n",
       " 'different_textured',\n",
       " 'flooring']"
      ]
     },
     "execution_count": 7,
     "metadata": {},
     "output_type": "execute_result"
    }
   ],
   "source": [
    "# `texts` is like a 3-gram version of `tokenized_docs`\n",
    "texts[0]"
   ]
  },
  {
   "cell_type": "code",
   "execution_count": 8,
   "metadata": {},
   "outputs": [
    {
     "data": {
      "text/plain": [
       "[(0, 1),\n",
       " (1, 1),\n",
       " (2, 1),\n",
       " (3, 1),\n",
       " (4, 1),\n",
       " (5, 1),\n",
       " (6, 1),\n",
       " (7, 1),\n",
       " (8, 1),\n",
       " (9, 1),\n",
       " (10, 1)]"
      ]
     },
     "execution_count": 8,
     "metadata": {},
     "output_type": "execute_result"
    }
   ],
   "source": [
    "# `corpus` is like an encoded version of `texts`\n",
    "corpus[0]"
   ]
  },
  {
   "cell_type": "markdown",
   "metadata": {
    "tags": [],
    "toc-hr-collapsed": true
   },
   "source": [
    "### 2.2 Negative reviews"
   ]
  },
  {
   "cell_type": "code",
   "execution_count": 9,
   "metadata": {},
   "outputs": [
    {
     "data": {
      "text/plain": [
       "'hate talk person need tech support email really'"
      ]
     },
     "execution_count": 9,
     "metadata": {},
     "output_type": "execute_result"
    }
   ],
   "source": [
    "sentiment = 'negative'\n",
    "\n",
    "docs = data[data[lda.sentiment_column_name] == sentiment][lda.review_column_name]\n",
    "docs.iloc[0]"
   ]
  },
  {
   "cell_type": "markdown",
   "metadata": {},
   "source": [
    "#### 2.2.1 Get tokenized docs"
   ]
  },
  {
   "cell_type": "code",
   "execution_count": 10,
   "metadata": {},
   "outputs": [
    {
     "data": {
      "text/plain": [
       "['hate', 'talk', 'person', 'tech', 'support', 'email']"
      ]
     },
     "execution_count": 10,
     "metadata": {},
     "output_type": "execute_result"
    }
   ],
   "source": [
    "tokenized_docs = lda.get_tokenized_docs(docs=docs, sentiment=sentiment)\n",
    "tokenized_docs[0]"
   ]
  },
  {
   "cell_type": "markdown",
   "metadata": {},
   "source": [
    "#### 2.2.2 Make a corpus"
   ]
  },
  {
   "cell_type": "code",
   "execution_count": 11,
   "metadata": {
    "tags": []
   },
   "outputs": [],
   "source": [
    "ngram = 3\n",
    "min_count = 1\n",
    "threshold = 10e-5\n",
    "\n",
    "corpus, id2word, texts = lda.make_corpus(\n",
    "    tokenized_docs=tokenized_docs, ngram=ngram, min_count=min_count, threshold=threshold, \n",
    "    scoring='npmi')"
   ]
  },
  {
   "cell_type": "code",
   "execution_count": 12,
   "metadata": {},
   "outputs": [
    {
     "data": {
      "text/plain": [
       "['hate_talk', 'person_tech', 'support_email']"
      ]
     },
     "execution_count": 12,
     "metadata": {},
     "output_type": "execute_result"
    }
   ],
   "source": [
    "texts[0]"
   ]
  },
  {
   "cell_type": "code",
   "execution_count": 13,
   "metadata": {},
   "outputs": [
    {
     "data": {
      "text/plain": [
       "[(0, 1), (1, 1), (2, 1)]"
      ]
     },
     "execution_count": 13,
     "metadata": {},
     "output_type": "execute_result"
    }
   ],
   "source": [
    "corpus[0]"
   ]
  },
  {
   "cell_type": "markdown",
   "metadata": {},
   "source": [
    "## 3. Evaluation of LDA models on the review texts"
   ]
  },
  {
   "cell_type": "code",
   "execution_count": 14,
   "metadata": {},
   "outputs": [],
   "source": [
    "# lda.evaluate_models()  # (with different sets of hyper-parameters)"
   ]
  },
  {
   "cell_type": "markdown",
   "metadata": {},
   "source": [
    "### 3.1 Positive reviews"
   ]
  },
  {
   "cell_type": "code",
   "execution_count": 15,
   "metadata": {},
   "outputs": [
    {
     "data": {
      "text/html": [
       "<div>\n",
       "<style scoped>\n",
       "    .dataframe tbody tr th:only-of-type {\n",
       "        vertical-align: middle;\n",
       "    }\n",
       "\n",
       "    .dataframe tbody tr th {\n",
       "        vertical-align: top;\n",
       "    }\n",
       "\n",
       "    .dataframe thead th {\n",
       "        text-align: right;\n",
       "    }\n",
       "</style>\n",
       "<table border=\"1\" class=\"dataframe\">\n",
       "  <thead>\n",
       "    <tr style=\"text-align: right;\">\n",
       "      <th></th>\n",
       "      <th>min_count</th>\n",
       "      <th>threshold</th>\n",
       "      <th>corpus_proportion</th>\n",
       "      <th>num_topics</th>\n",
       "      <th>alpha</th>\n",
       "      <th>eta</th>\n",
       "      <th>coherence_score</th>\n",
       "    </tr>\n",
       "  </thead>\n",
       "  <tbody>\n",
       "    <tr>\n",
       "      <th>76</th>\n",
       "      <td>5</td>\n",
       "      <td>0.0001</td>\n",
       "      <td>90%</td>\n",
       "      <td>3</td>\n",
       "      <td>asymmetric</td>\n",
       "      <td>1.0</td>\n",
       "      <td>0.598883</td>\n",
       "    </tr>\n",
       "    <tr>\n",
       "      <th>98</th>\n",
       "      <td>1</td>\n",
       "      <td>0.0001</td>\n",
       "      <td>80%</td>\n",
       "      <td>3</td>\n",
       "      <td>asymmetric</td>\n",
       "      <td>symmetric</td>\n",
       "      <td>0.594837</td>\n",
       "    </tr>\n",
       "    <tr>\n",
       "      <th>123</th>\n",
       "      <td>1</td>\n",
       "      <td>0.0001</td>\n",
       "      <td>85%</td>\n",
       "      <td>3</td>\n",
       "      <td>asymmetric</td>\n",
       "      <td>auto</td>\n",
       "      <td>0.588380</td>\n",
       "    </tr>\n",
       "    <tr>\n",
       "      <th>129</th>\n",
       "      <td>5</td>\n",
       "      <td>0.0001</td>\n",
       "      <td>95%</td>\n",
       "      <td>3</td>\n",
       "      <td>asymmetric</td>\n",
       "      <td>1.0</td>\n",
       "      <td>0.587385</td>\n",
       "    </tr>\n",
       "    <tr>\n",
       "      <th>136</th>\n",
       "      <td>1</td>\n",
       "      <td>0.0001</td>\n",
       "      <td>90%</td>\n",
       "      <td>3</td>\n",
       "      <td>asymmetric</td>\n",
       "      <td>symmetric</td>\n",
       "      <td>0.586332</td>\n",
       "    </tr>\n",
       "  </tbody>\n",
       "</table>\n",
       "</div>"
      ],
      "text/plain": [
       "     min_count  threshold corpus_proportion  num_topics       alpha  \\\n",
       "76           5     0.0001               90%           3  asymmetric   \n",
       "98           1     0.0001               80%           3  asymmetric   \n",
       "123          1     0.0001               85%           3  asymmetric   \n",
       "129          5     0.0001               95%           3  asymmetric   \n",
       "136          1     0.0001               90%           3  asymmetric   \n",
       "\n",
       "           eta  coherence_score  \n",
       "76         1.0         0.598883  \n",
       "98   symmetric         0.594837  \n",
       "123       auto         0.588380  \n",
       "129        1.0         0.587385  \n",
       "136  symmetric         0.586332  "
      ]
     },
     "execution_count": 15,
     "metadata": {},
     "output_type": "execute_result"
    }
   ],
   "source": [
    "pos_lda_eval_summary = lda.fetch_evaluation_summary(sentiment='positive').query('alpha != \"auto\"')\n",
    "pos_lda_eval_summary.head()"
   ]
  },
  {
   "cell_type": "code",
   "execution_count": 16,
   "metadata": {},
   "outputs": [],
   "source": [
    "pos_idx = 76\n",
    "pos_key = f'LDA_{str(pos_idx).zfill(3)}'\n",
    "\n",
    "# pos_lda_vis_data = lda.get_vis_data(sentiment='positive', i=pos_idx, export_to_html=True, update=True, verbose=True)\n",
    "pos_lda_vis_data = lda.get_vis_data(sentiment='positive', i=pos_idx)"
   ]
  },
  {
   "cell_type": "code",
   "execution_count": 17,
   "metadata": {},
   "outputs": [
    {
     "data": {
      "text/html": [
       "\n",
       "<link rel=\"stylesheet\" type=\"text/css\" href=\"https://cdn.jsdelivr.net/gh/bmabey/pyLDAvis@3.4.0/pyLDAvis/js/ldavis.v1.0.0.css\">\n",
       "\n",
       "\n",
       "<div id=\"ldavis_el996019810069070888472838898\" style=\"background-color:white;\"></div>\n",
       "<script type=\"text/javascript\">\n",
       "\n",
       "var ldavis_el996019810069070888472838898_data = {\"mdsDat\": {\"x\": [-0.08628195848066257, -0.015288382729048764, 0.1015703412097113], \"y\": [0.030814243857712725, -0.049534398261312444, 0.018720154403599774], \"topics\": [1, 2, 3], \"cluster\": [1, 1, 1], \"Freq\": [64.48702316053759, 31.06474999604804, 4.448226843414364]}, \"tinfo\": {\"Term\": [\"mop\", \"pad\", \"water\", \"unit\", \"room\", \"kitchen\", \"battery\", \"jet\", \"area\", \"map\", \"clean\", \"solution\", \"cloth\", \"dog_hair\", \"dry\", \"dog\", \"bathroom\", \"try\", \"set\", \"base\", \"highly_recommend\", \"add\", \"wet_mop\", \"dollar\", \"hair\", \"app\", \"mode\", \"series\", \"mapping\", \"include\", \"large_dog\", \"twice_day\", \"hair_everywhere\", \"mom\", \"dog_pick\", \"life_saver\", \"clean_everyday\", \"wish_soon\", \"life_easy\", \"lifesaver\", \"obsess\", \"amazed_pick\", \"sweep_day\", \"hairy\", \"clean_hair\", \"everyday\", \"believe_pick\", \"believe_long\", \"change_life\", \"vaccume\", \"omg\", \"dust_free\", \"clean_morning\", \"second_upstairs\", \"pick_hair\", \"new_friend\", \"dog_help\", \"dog_hair\", \"dog_house\", \"dog_keep\", \"highly_recommend\", \"dog\", \"wonderful\", \"pick_dog\", \"hair_pick\", \"easy_clean\", \"hair\", \"time_saver\", \"small_dog\", \"save_time\", \"keep_clean\", \"shed\", \"baby\", \"easy_set\", \"dog_shed\", \"daughter\", \"gift\", \"helper\", \"husband\", \"help_keep\", \"home_clean\", \"hair_dirt\", \"long_hair\", \"money\", \"recommend\", \"clean\", \"quiet\", \"daily\", \"day\", \"thank\", \"easy\", \"kid\", \"pick\", \"suction\", \"suction_power\", \"sweep\", \"hard\", \"carpet\", \"name\", \"hardwood\", \"time\", \"house\", \"week\", \"home\", \"far\", \"customer_service\", \"cleaning\", \"dust\", \"do\", \"rug\", \"keep\", \"help\", \"issue\", \"long\", \"find\", \"want\", \"look\", \"machine\", \"room\", \"keep_zone\", \"firmware_update\", \"define\", \"clean_zone\", \"firmware\", \"cleanbase\", \"software_update\", \"cloud\", \"width\", \"homebase\", \"map_create\", \"beam\", \"reboot\", \"ugly\", \"remap\", \"avoidance\", \"original_battery\", \"sequence\", \"lidar\", \"virtual_wall_barrier\", \"temporarily\", \"individual_room\", \"initial_mapping\", \"setup_process\", \"history\", \"software\", \"add_room\", \"authentic\", \"full_speed\", \"name_room\", \"build_map\", \"degree\", \"delete\", \"network\", \"map\", \"virtual_wall\", \"location\", \"zone\", \"movie\", \"position\", \"status\", \"resume\", \"virtual\", \"laser\", \"series\", \"barrier\", \"mapping\", \"router\", \"unit\", \"address\", \"smart_map\", \"base\", \"information\", \"navigation\", \"camera\", \"wall\", \"boundary\", \"room\", \"area\", \"error\", \"app\", \"point\", \"create\", \"device\", \"space\", \"dock\", \"find\", \"move\", \"update\", \"simply\", \"light\", \"still\", \"feature\", \"note\", \"bit\", \"include\", \"time\", \"set\", \"battery\", \"place\", \"try\", \"clean\", \"know\", \"start\", \"cleaning\", \"back\", \"keep\", \"part\", \"problem\", \"home\", \"charge\", \"mop\", \"day\", \"want\", \"pick\", \"look\", \"washable_pad\", \"authentic_part\", \"chemical\", \"reusable_pad\", \"disposable_pad\", \"damp_wet\", \"sweeping_pad\", \"bottle\", \"streaking\", \"bravva\", \"dry_sweeping\", \"change_pad\", \"capful\", \"cleaning_pad\", \"dilute\", \"reusable\", \"clorox\", \"disposable_wet\", \"water_only\", \"recommend_washable\", \"blue_pad\", \"probably_mop\", \"pad_disposable\", \"resevoir\", \"simple_green\", \"reusable_cleaning\", \"type_pad\", \"jet\", \"damp_pad\", \"wick\", \"dry_pad\", \"plain_water\", \"disposable\", \"vinegar\", \"detergent\", \"cleaning_solution\", \"fill_water\", \"pad_clean\", \"pad\", \"spray\", \"streak\", \"fill_tank\", \"aftermarket\", \"clean_pad\", \"water\", \"damp_mop\", \"extra_battery\", \"wet_dry\", \"damp\", \"refill\", \"scrub\", \"mop\", \"cloth\", \"dry\", \"wet_mop\", \"mop_pad\", \"solution\", \"tank\", \"leave_streak\", \"kitchen\", \"wet\", \"clean\", \"bathroom\", \"battery\", \"swiffer\", \"try\", \"set\", \"room\", \"time\", \"area\"], \"Freq\": [1583.0, 439.0, 396.0, 1395.0, 2261.0, 842.0, 1057.0, 199.0, 2021.0, 758.0, 7048.0, 302.0, 267.0, 2008.0, 250.0, 2424.0, 417.0, 1506.0, 1623.0, 1044.0, 1806.0, 533.0, 185.0, 781.0, 2481.0, 1314.0, 453.0, 264.0, 591.0, 570.0, 259.13878662847316, 337.55295827469064, 138.84092213345102, 422.7430567567685, 106.71014072760224, 278.7257255675802, 109.19085163633724, 154.42217260622303, 560.1643418975169, 130.41884215058732, 123.717519174321, 160.10299029923306, 131.71673082024745, 109.12498726783008, 501.3580882114866, 607.7617315926927, 77.16105695911018, 74.46449440855982, 213.609071432568, 108.31331763930903, 105.28719460720656, 107.4761189391299, 71.89064004020648, 71.39910200054787, 962.1712166372458, 153.0956896793173, 74.92004568455582, 1959.8600644495277, 116.47159014425348, 120.59535719586871, 1751.887498096182, 2335.830255827988, 487.2029126817688, 295.1293473029834, 260.51667770258564, 1052.39789231767, 2356.4440849698103, 243.30900157482702, 177.95167203721184, 679.115094448444, 933.5699168891005, 415.3517382317741, 317.3801340350465, 813.1765543628321, 436.47105784107663, 364.5063124316657, 405.30382653992, 279.67065122282, 507.4520589819246, 403.5645829641909, 375.66452131398734, 303.02498961582245, 531.7212863326447, 840.6832964894094, 2247.857350654858, 5754.8954861503435, 1053.6379667083072, 919.2390181939355, 2463.9352434700586, 676.3025480328678, 1778.89710742394, 596.0616318382667, 2057.4248580635726, 1154.6396712540761, 1048.8320951047706, 905.7294619620869, 1085.0011153387818, 1672.4451847181856, 1201.5153317144411, 1033.7421334264623, 2864.817736014267, 1715.4887904604975, 1356.6676018303142, 1972.345657783928, 1461.985002833899, 1165.0566355331405, 1657.2696948164246, 1226.1779210135016, 1212.0719581520402, 1062.7152433682288, 1343.2921925441788, 1113.866296808096, 1189.6966548843452, 1181.7700213179187, 1335.2131694050129, 1172.683411220914, 1158.8349663735194, 1107.5040321462318, 1155.9223400575836, 87.33763286786838, 43.05400375009784, 52.1224269714543, 48.10197792360825, 29.436140892698955, 23.707161556705742, 60.28424493840768, 35.18821389574338, 36.63567334340764, 23.459972462545437, 36.21977785853252, 51.58358325562337, 67.08317379483512, 22.316330130891505, 20.739281745689606, 22.86316721886882, 29.98018834744398, 23.951614664426685, 89.84991728993757, 16.480178552977286, 28.553937265250866, 38.524643342265875, 17.551900972187333, 20.088753070808682, 62.18859879379052, 160.5835407563987, 16.354811107121296, 48.032048051721105, 21.90235571212507, 58.1469873634387, 35.52170535207083, 58.884329322324184, 40.59755286642149, 108.22593646318174, 620.0293592913554, 237.61323358846553, 182.00717803451997, 196.7835484944324, 117.00645522915421, 88.38625906541803, 77.7673975454569, 67.75762638475305, 75.09442309630195, 52.986472436800625, 207.04621063700213, 201.60078525694732, 428.99176040174603, 100.19469479021681, 925.2592559296309, 105.53723073065277, 98.28125163534634, 640.3187603088496, 120.87648377884658, 187.06963684212113, 118.49096928307708, 363.6597763138731, 112.41468827349105, 1063.1398928745123, 958.1771733131606, 178.05151898487665, 637.6207251435694, 441.55679983870084, 177.99237467297738, 423.0930247306621, 342.12536096296327, 330.08671407666156, 862.7574927048146, 428.77116478922323, 291.32851048024844, 244.10760193760922, 276.7727560697323, 623.4794305275652, 441.2778365154717, 250.13835981148145, 438.85704797604694, 291.3784990728212, 956.8482043034206, 555.8856567760715, 425.68392980507286, 437.28197813566044, 513.3908569770257, 1199.781483053039, 539.0257266263026, 466.65119593148546, 633.9518567397045, 514.5946705734721, 567.1471506739163, 446.2519671558203, 482.0824251288509, 584.4882465732903, 431.37563994763576, 441.6498693606046, 476.39803138699983, 437.95214409136247, 447.74385892107546, 429.13821103722296, 54.26323097518192, 15.968071017731791, 23.14943335975986, 74.16971397284719, 58.536645392150064, 9.900902855043851, 8.62141396193432, 34.47648744007777, 8.246660785849896, 7.619702507557592, 17.207564817485924, 22.69870794261306, 6.704226175080105, 33.37616731778, 12.569584018899597, 35.4194199783527, 6.338822843385124, 7.717153784725576, 5.200707182282569, 6.054653052120805, 16.285556031131023, 5.947373098548287, 7.629080884336016, 4.857905160659811, 4.561480342527923, 4.84134174305598, 5.090561552616667, 142.30081558317926, 10.258600246914577, 6.456272398830524, 16.133021879633976, 13.687605927961604, 42.694596815353144, 19.980282387566724, 14.910902109970646, 70.77372758184936, 25.952308933394775, 27.099009551382142, 236.55702120097916, 67.32363792854416, 58.73839133024337, 15.644493241885353, 15.318015404758809, 24.21069190994174, 134.0930042055272, 42.27677436390046, 22.766397011674087, 20.05576153041952, 24.780496886704498, 32.128201593297405, 50.07792457538977, 238.8059002045467, 69.9295727110302, 64.03679450979942, 52.8216576278633, 38.30033675705104, 62.96367819139657, 45.52541949819594, 25.748830567170465, 55.14796914552932, 36.67323850057517, 93.98213665803502, 44.2419214386346, 51.681573597720856, 34.4649691341257, 44.62228891095099, 42.49721121157604, 42.132213186124545, 41.170964317322685, 35.29330096625512], \"Total\": [1583.0, 439.0, 396.0, 1395.0, 2261.0, 842.0, 1057.0, 199.0, 2021.0, 758.0, 7048.0, 302.0, 267.0, 2008.0, 250.0, 2424.0, 417.0, 1506.0, 1623.0, 1044.0, 1806.0, 533.0, 185.0, 781.0, 2481.0, 1314.0, 453.0, 264.0, 591.0, 570.0, 262.89224247150935, 342.50980551039265, 140.90976045996283, 429.5217790349808, 108.53301707473967, 283.5497886121722, 111.0859327274313, 157.1161113415525, 570.5738555406787, 132.87344541600012, 126.12530418220423, 163.23401107690927, 134.32982420947278, 111.33481728639111, 511.6400064938729, 620.8130581684305, 78.83466302079842, 76.10031960712006, 218.36531243196623, 110.74317570920037, 107.65843916659962, 109.89856802280799, 73.53676666645156, 73.06617173924931, 984.771902770778, 156.71288214423498, 76.76046081427883, 2008.171356582988, 119.351175089867, 123.59415988464607, 1806.998061629897, 2424.1712156208728, 499.9931285965008, 303.5405785228325, 267.76224623205616, 1098.3599262799548, 2481.4013230076484, 250.4117890516547, 182.58691871145345, 711.120899177427, 987.9288955393016, 433.1186603790563, 329.8605976278237, 863.5233175708327, 456.81754979622986, 380.7861993779493, 425.22626177696884, 290.2572502424493, 537.0770097723992, 424.07691668514167, 393.77898647781933, 315.4811187589367, 567.6416921814339, 920.3725733078544, 2593.553579564911, 7048.659105861418, 1174.0478645837447, 1023.3002198370192, 2958.4541175498707, 737.0983797870467, 2085.716940916353, 647.6363749485325, 2512.525037009514, 1348.500875576054, 1216.8234520606172, 1032.0963215906263, 1266.2521621529909, 2060.726225612212, 1426.0455002197805, 1204.7534781950008, 3862.8369046350103, 2146.437729136198, 1641.3444626658056, 2565.5383168439016, 1804.0492875555199, 1384.1776567331726, 2321.1225558350866, 1580.7832582836118, 1557.7129002315025, 1315.6602591162243, 1934.9702109651969, 1422.1970771265683, 1604.077593985371, 1619.3272319979733, 2216.988130005197, 1640.0820576563451, 1622.145875384132, 1409.4389936950136, 2261.19444611822, 89.21939569405207, 44.869406508625886, 54.62772220179709, 50.633785264903395, 31.09194103376922, 25.074086458992536, 63.84079673515317, 37.273068069333554, 38.86695438014671, 24.933080158071117, 38.5116673360243, 54.85673104523367, 71.85526671802413, 23.91287052905984, 22.27710556157481, 24.610298081858407, 32.285472186439634, 25.930849229044924, 97.34609782293649, 17.872150185999562, 30.973173918048477, 41.83425372945996, 19.091822219326733, 21.871060871888687, 68.19476855485391, 176.1149378615349, 17.93768459843714, 52.68943289820602, 24.09922271873073, 63.993938229587066, 39.2658916452233, 65.51353127803254, 45.02074239463194, 124.36787911653113, 758.3367901368412, 285.599400176483, 216.57043407991375, 235.89161922135702, 137.50815802657507, 102.39347828580445, 90.14688471929294, 78.28742240148794, 87.56565768210267, 59.987503683847905, 264.92372251007663, 257.5357069912266, 591.9057001015752, 119.93151337222841, 1395.320049568279, 128.3568905786345, 118.79485023074359, 1044.027258020227, 152.4734351083001, 253.48128552387396, 149.0520836413165, 576.2786176727813, 142.16617482316528, 2261.19444611822, 2021.971458536555, 256.86234917763403, 1314.68166527913, 842.1037324293427, 262.61644331221686, 831.1239334513244, 627.4635374979836, 603.0126535672598, 2216.988130005197, 907.2141071860158, 530.9007092826515, 414.3785320908594, 496.75714300471816, 1684.1379319879975, 1038.5017400632285, 447.3849021944859, 1064.60468825584, 570.3298608279014, 3862.8369046350103, 1623.9749593036843, 1057.394072170215, 1108.2115345292673, 1506.6177874777388, 7048.659105861418, 1660.7550662403526, 1286.9371759533415, 2321.1225558350866, 1580.6926004167196, 1934.9702109651969, 1242.2613198071374, 1529.867004981018, 2565.5383168439016, 1356.0144679047582, 1583.4539284389996, 2958.4541175498707, 1640.0820576563451, 2512.525037009514, 1622.145875384132, 61.358672664571586, 18.4575622869695, 27.217305121056366, 88.65211979741363, 70.3078551576292, 12.133173223763759, 10.809109945031018, 43.74849549229684, 10.508859693639367, 9.8271023124267, 22.517881401680377, 29.81123679555454, 8.83391113708593, 44.047386090355786, 16.634991501103478, 46.93066449422433, 8.528394079616534, 10.427442975283682, 7.037288404831932, 8.194955670959388, 22.079981966328535, 8.107164732696928, 10.55787350570473, 6.776344374847943, 6.379488298870129, 6.7933470230935225, 7.149400722486169, 199.90589951066224, 14.427919178135024, 9.086028460455411, 22.842710822887547, 19.374788594483526, 63.56728317777568, 29.24497934281352, 21.680810283800056, 110.78441129869691, 38.68966870963149, 41.6838602792704, 439.86065226782773, 114.08030701254769, 101.46455364882448, 24.294646571646346, 23.908962784333443, 43.13196347046056, 396.9999725373341, 92.99620383585936, 41.60027879642719, 34.80122772147695, 47.439148827193634, 70.94642485360589, 142.04430595649688, 1583.4539284389996, 267.6959327510401, 250.74471126800128, 185.96728906295903, 106.68060413423724, 302.3442806215657, 165.1043650097024, 56.56350882044592, 842.7420488615427, 200.87582249972812, 7048.659105861418, 417.73629115638823, 1057.394072170215, 211.85125345638622, 1506.6177874777388, 1623.9749593036843, 2261.19444611822, 3862.8369046350103, 2021.971458536555], \"Category\": [\"Default\", \"Default\", \"Default\", \"Default\", \"Default\", \"Default\", \"Default\", \"Default\", \"Default\", \"Default\", \"Default\", \"Default\", \"Default\", \"Default\", \"Default\", \"Default\", \"Default\", \"Default\", \"Default\", \"Default\", \"Default\", \"Default\", \"Default\", \"Default\", \"Default\", \"Default\", \"Default\", \"Default\", \"Default\", \"Default\", \"Topic1\", \"Topic1\", \"Topic1\", \"Topic1\", \"Topic1\", \"Topic1\", \"Topic1\", \"Topic1\", \"Topic1\", \"Topic1\", \"Topic1\", \"Topic1\", \"Topic1\", \"Topic1\", \"Topic1\", \"Topic1\", \"Topic1\", \"Topic1\", \"Topic1\", \"Topic1\", \"Topic1\", \"Topic1\", \"Topic1\", \"Topic1\", \"Topic1\", \"Topic1\", \"Topic1\", \"Topic1\", \"Topic1\", \"Topic1\", \"Topic1\", \"Topic1\", \"Topic1\", \"Topic1\", \"Topic1\", \"Topic1\", \"Topic1\", \"Topic1\", \"Topic1\", \"Topic1\", \"Topic1\", \"Topic1\", \"Topic1\", \"Topic1\", \"Topic1\", \"Topic1\", \"Topic1\", \"Topic1\", \"Topic1\", \"Topic1\", \"Topic1\", \"Topic1\", \"Topic1\", \"Topic1\", \"Topic1\", \"Topic1\", \"Topic1\", \"Topic1\", \"Topic1\", \"Topic1\", \"Topic1\", \"Topic1\", \"Topic1\", \"Topic1\", \"Topic1\", \"Topic1\", \"Topic1\", \"Topic1\", \"Topic1\", \"Topic1\", \"Topic1\", \"Topic1\", \"Topic1\", \"Topic1\", \"Topic1\", \"Topic1\", \"Topic1\", \"Topic1\", \"Topic1\", \"Topic1\", \"Topic1\", \"Topic1\", \"Topic1\", \"Topic1\", \"Topic1\", \"Topic1\", \"Topic1\", \"Topic1\", \"Topic1\", \"Topic2\", \"Topic2\", \"Topic2\", \"Topic2\", \"Topic2\", \"Topic2\", \"Topic2\", \"Topic2\", \"Topic2\", \"Topic2\", \"Topic2\", \"Topic2\", \"Topic2\", \"Topic2\", \"Topic2\", \"Topic2\", \"Topic2\", \"Topic2\", \"Topic2\", \"Topic2\", \"Topic2\", \"Topic2\", \"Topic2\", \"Topic2\", \"Topic2\", \"Topic2\", \"Topic2\", \"Topic2\", \"Topic2\", \"Topic2\", \"Topic2\", \"Topic2\", \"Topic2\", \"Topic2\", \"Topic2\", \"Topic2\", \"Topic2\", \"Topic2\", \"Topic2\", \"Topic2\", \"Topic2\", \"Topic2\", \"Topic2\", \"Topic2\", \"Topic2\", \"Topic2\", \"Topic2\", \"Topic2\", \"Topic2\", \"Topic2\", \"Topic2\", \"Topic2\", \"Topic2\", \"Topic2\", \"Topic2\", \"Topic2\", \"Topic2\", \"Topic2\", \"Topic2\", \"Topic2\", \"Topic2\", \"Topic2\", \"Topic2\", \"Topic2\", \"Topic2\", \"Topic2\", \"Topic2\", \"Topic2\", \"Topic2\", \"Topic2\", \"Topic2\", \"Topic2\", \"Topic2\", \"Topic2\", \"Topic2\", \"Topic2\", \"Topic2\", \"Topic2\", \"Topic2\", \"Topic2\", \"Topic2\", \"Topic2\", \"Topic2\", \"Topic2\", \"Topic2\", \"Topic2\", \"Topic2\", \"Topic2\", \"Topic2\", \"Topic2\", \"Topic2\", \"Topic2\", \"Topic2\", \"Topic2\", \"Topic2\", \"Topic2\", \"Topic3\", \"Topic3\", \"Topic3\", \"Topic3\", \"Topic3\", \"Topic3\", \"Topic3\", \"Topic3\", \"Topic3\", \"Topic3\", \"Topic3\", \"Topic3\", \"Topic3\", \"Topic3\", \"Topic3\", \"Topic3\", \"Topic3\", \"Topic3\", \"Topic3\", \"Topic3\", \"Topic3\", \"Topic3\", \"Topic3\", \"Topic3\", \"Topic3\", \"Topic3\", \"Topic3\", \"Topic3\", \"Topic3\", \"Topic3\", \"Topic3\", \"Topic3\", \"Topic3\", \"Topic3\", \"Topic3\", \"Topic3\", \"Topic3\", \"Topic3\", \"Topic3\", \"Topic3\", \"Topic3\", \"Topic3\", \"Topic3\", \"Topic3\", \"Topic3\", \"Topic3\", \"Topic3\", \"Topic3\", \"Topic3\", \"Topic3\", \"Topic3\", \"Topic3\", \"Topic3\", \"Topic3\", \"Topic3\", \"Topic3\", \"Topic3\", \"Topic3\", \"Topic3\", \"Topic3\", \"Topic3\", \"Topic3\", \"Topic3\", \"Topic3\", \"Topic3\", \"Topic3\", \"Topic3\", \"Topic3\", \"Topic3\", \"Topic3\"], \"logprob\": [30.0, 29.0, 28.0, 27.0, 26.0, 25.0, 24.0, 23.0, 22.0, 21.0, 20.0, 19.0, 18.0, 17.0, 16.0, 15.0, 14.0, 13.0, 12.0, 11.0, 10.0, 9.0, 8.0, 7.0, 6.0, 5.0, 4.0, 3.0, 2.0, 1.0, -7.9419, -7.6775, -8.5659, -7.4525, -8.8291, -7.869, -8.8061, -8.4595, -7.171, -8.6285, -8.6812, -8.4234, -8.6186, -8.8067, -7.2819, -7.0894, -9.1533, -9.1889, -8.1351, -8.8142, -8.8425, -8.822, -9.2241, -9.2309, -6.63, -8.4682, -9.1828, -5.9186, -8.7416, -8.7068, -6.0308, -5.7431, -7.3105, -7.8118, -7.9366, -6.5404, -5.7343, -8.0049, -8.3177, -6.9784, -6.6602, -7.4701, -7.7391, -6.7983, -7.4205, -7.6007, -7.4946, -7.8656, -7.2698, -7.4989, -7.5705, -7.7854, -7.2231, -6.765, -5.7815, -4.8414, -6.5392, -6.6757, -5.6897, -6.9826, -6.0155, -7.1089, -5.87, -6.4477, -6.5438, -6.6905, -6.5099, -6.0772, -6.4079, -6.5583, -5.539, -6.0518, -6.2864, -5.9122, -6.2117, -6.4387, -6.0863, -6.3876, -6.3991, -6.5306, -6.2963, -6.4836, -6.4178, -6.4245, -6.3024, -6.4322, -6.4441, -6.4894, -6.4466, -8.2991, -9.0064, -8.8152, -8.8955, -9.3866, -9.6031, -8.6698, -9.2081, -9.1678, -9.6135, -9.1792, -8.8256, -8.5629, -9.6635, -9.7368, -9.6393, -9.3683, -9.5928, -8.2707, -9.9667, -9.417, -9.1175, -9.9037, -9.7687, -8.6387, -7.69, -9.9743, -8.897, -9.6822, -8.7059, -9.1987, -8.6933, -9.0651, -8.0846, -6.3391, -7.2982, -7.5648, -7.4867, -8.0066, -8.2871, -8.4151, -8.5529, -8.4501, -8.7988, -7.4359, -7.4625, -6.7074, -8.1617, -5.9388, -8.1098, -8.181, -6.3069, -7.9741, -7.5374, -7.994, -6.8726, -8.0466, -5.7999, -5.9038, -7.5868, -6.3111, -6.6785, -7.5871, -6.7212, -6.9337, -6.9695, -6.0087, -6.7079, -7.0944, -7.2712, -7.1456, -6.3335, -6.6792, -7.2468, -6.6847, -7.0942, -5.9052, -6.4483, -6.7151, -6.6883, -6.5278, -5.6789, -6.4791, -6.6233, -6.3169, -6.5255, -6.4282, -6.668, -6.5907, -6.3981, -6.7019, -6.6783, -6.6026, -6.6867, -6.6646, -6.7071, -6.8314, -8.0547, -7.6833, -6.5189, -6.7556, -8.5326, -8.671, -7.285, -8.7155, -8.7945, -7.9799, -7.703, -8.9225, -7.3174, -8.294, -7.258, -8.9786, -8.7818, -9.1765, -9.0244, -8.035, -9.0423, -8.7933, -9.2447, -9.3076, -9.2481, -9.1979, -5.8673, -8.4971, -8.9602, -8.0444, -8.2088, -7.0712, -7.8305, -8.1232, -6.5658, -7.569, -7.5258, -5.3591, -6.6158, -6.7522, -8.0751, -8.0962, -7.6385, -5.9267, -7.081, -7.7, -7.8267, -7.6152, -7.3555, -6.9117, -5.3496, -6.5778, -6.6658, -6.8583, -7.1798, -6.6827, -7.007, -7.5769, -6.8152, -7.2232, -6.2822, -7.0356, -6.8802, -7.2853, -7.027, -7.0758, -7.0845, -7.1075, -7.2616], \"loglift\": [30.0, 29.0, 28.0, 27.0, 26.0, 25.0, 24.0, 23.0, 22.0, 21.0, 20.0, 19.0, 18.0, 17.0, 16.0, 15.0, 14.0, 13.0, 12.0, 11.0, 10.0, 9.0, 8.0, 7.0, 6.0, 5.0, 4.0, 3.0, 2.0, 1.0, 0.4243, 0.4241, 0.4239, 0.4228, 0.4218, 0.4215, 0.4215, 0.4214, 0.4203, 0.4201, 0.4194, 0.4193, 0.4191, 0.4187, 0.4184, 0.4175, 0.4172, 0.417, 0.4167, 0.4165, 0.4164, 0.4164, 0.4161, 0.4156, 0.4155, 0.4154, 0.4144, 0.4144, 0.4143, 0.4141, 0.4077, 0.4016, 0.4128, 0.4106, 0.4113, 0.396, 0.387, 0.4099, 0.413, 0.3927, 0.3821, 0.3968, 0.4001, 0.3786, 0.3931, 0.395, 0.3907, 0.4016, 0.382, 0.3891, 0.3916, 0.3984, 0.3733, 0.3481, 0.2957, 0.2359, 0.3305, 0.3315, 0.2558, 0.3526, 0.2796, 0.3557, 0.2389, 0.2835, 0.2901, 0.3081, 0.2842, 0.2299, 0.2674, 0.2856, 0.1398, 0.2146, 0.2482, 0.1758, 0.2285, 0.2664, 0.1018, 0.1847, 0.1878, 0.2252, 0.0737, 0.1943, 0.1399, 0.1237, -0.0684, 0.1033, 0.1024, 0.1976, -0.2323, 1.1478, 1.1278, 1.1222, 1.1178, 1.1144, 1.113, 1.1118, 1.1115, 1.11, 1.1082, 1.1077, 1.1076, 1.1004, 1.1, 1.0976, 1.0955, 1.095, 1.0897, 1.089, 1.088, 1.0878, 1.0867, 1.085, 1.0841, 1.0769, 1.0768, 1.0767, 1.0766, 1.0735, 1.0733, 1.0689, 1.0624, 1.0657, 1.0301, 0.9677, 0.9852, 0.9952, 0.9878, 1.0076, 1.022, 1.0214, 1.0246, 1.0155, 1.045, 0.9226, 0.9242, 0.8472, 0.9893, 0.7583, 0.9733, 0.9795, 0.6802, 0.9369, 0.8653, 0.9396, 0.7087, 0.9343, 0.4144, 0.4223, 0.8026, 0.4455, 0.5235, 0.7801, 0.4939, 0.5626, 0.5665, 0.2253, 0.4196, 0.569, 0.6399, 0.5842, 0.1754, 0.3132, 0.5877, 0.2829, 0.4975, -0.2264, 0.097, 0.2592, 0.2392, 0.0925, -0.6016, 0.0438, 0.1547, -0.1287, 0.0469, -0.0581, 0.1453, 0.0143, -0.3101, 0.0238, -0.1077, -0.6571, -0.1513, -0.5557, -0.1606, 2.9898, 2.9678, 2.9508, 2.9343, 2.9294, 2.9093, 2.8865, 2.8745, 2.8703, 2.8583, 2.8437, 2.8401, 2.8368, 2.8352, 2.8324, 2.8313, 2.816, 2.8117, 2.8102, 2.81, 2.8083, 2.8029, 2.7878, 2.7798, 2.7772, 2.7739, 2.773, 2.7728, 2.7716, 2.771, 2.7649, 2.7652, 2.7146, 2.7317, 2.7383, 2.6646, 2.7134, 2.682, 2.4924, 2.5853, 2.566, 2.6725, 2.6674, 2.5352, 2.0273, 2.3243, 2.5098, 2.5615, 2.4633, 2.3205, 2.0701, 1.221, 1.7703, 1.7477, 1.854, 2.0883, 1.5437, 1.8244, 2.3257, 0.386, 1.412, -1.2048, 0.8675, 0.0942, 1.2967, -0.4067, -0.5305, -0.8702, -1.4288, -0.9355]}, \"token.table\": {\"Topic\": [1, 2, 3, 1, 2, 1, 2, 3, 1, 2, 3, 1, 2, 1, 2, 3, 1, 2, 3, 1, 2, 3, 1, 2, 3, 1, 2, 3, 1, 2, 3, 1, 2, 3, 1, 2, 3, 1, 2, 3, 1, 2, 3, 1, 2, 3, 1, 2, 3, 1, 2, 1, 2, 3, 1, 2, 3, 1, 2, 3, 1, 2, 3, 1, 2, 3, 1, 2, 3, 1, 2, 1, 2, 3, 1, 2, 3, 1, 2, 3, 1, 2, 3, 1, 2, 3, 1, 2, 3, 1, 2, 3, 1, 2, 3, 1, 2, 1, 2, 3, 1, 2, 3, 1, 2, 3, 1, 2, 3, 1, 2, 1, 2, 3, 1, 2, 3, 1, 2, 3, 1, 2, 3, 1, 2, 3, 1, 2, 3, 1, 2, 3, 1, 2, 3, 1, 2, 3, 1, 2, 3, 1, 2, 3, 1, 2, 3, 1, 2, 3, 1, 2, 3, 1, 2, 3, 1, 2, 3, 1, 2, 3, 1, 2, 3, 1, 2, 3, 1, 2, 3, 1, 2, 3, 1, 2, 3, 1, 2, 3, 1, 2, 3, 1, 2, 3, 1, 2, 3, 1, 2, 3, 1, 2, 3, 1, 2, 1, 2, 1, 2, 3, 1, 2, 3, 1, 2, 3, 1, 2, 3, 1, 2, 3, 1, 2, 3, 1, 2, 3, 1, 2, 3, 1, 2, 3, 1, 2, 3, 1, 2, 3, 1, 2, 3, 1, 2, 3, 1, 2, 3, 1, 2, 3, 1, 2, 3, 1, 2, 3, 1, 2, 3, 1, 2, 3, 1, 2, 3, 1, 2, 3, 1, 2, 3, 1, 2, 1, 2, 3, 1, 2, 3, 1, 2, 3, 1, 2, 1, 2, 3, 1, 2, 3, 1, 2, 3, 1, 2, 3, 1, 2, 3, 1, 2, 3, 1, 2, 3, 1, 2, 3, 1, 2, 3, 1, 2, 3, 1, 2, 3, 1, 2, 1, 2, 3, 1, 2, 3, 1, 2, 3, 1, 2, 3, 1, 2, 3, 1, 2, 3, 1, 2, 3, 1, 2, 3, 1, 2, 3, 1, 2, 3, 1, 2, 1, 2, 3, 1, 2, 3, 1, 2, 3, 1, 2, 3, 1, 2, 3, 1, 2, 3, 1, 2, 3, 1, 2, 3, 1, 2, 3, 1, 2, 3, 1, 2, 3, 1, 2, 3, 1, 2, 3, 1, 2, 3, 1, 2, 3, 1, 2, 3, 1, 2, 3, 1, 2, 3, 1, 2, 3, 1, 2, 3, 1, 2, 3, 1, 2, 3, 1, 2, 3, 1, 2, 3, 1, 2, 3, 1, 2, 3, 1, 2, 3, 1, 2, 3, 1, 2, 3, 1, 2, 3, 1, 2, 3, 1, 2, 3, 1, 2, 3, 1, 2, 3, 1, 2, 3, 1, 2, 3, 1, 2, 3, 1, 2, 3, 1, 2, 3, 1, 2, 3, 1, 2, 3, 1, 2, 3, 1, 2, 3, 1, 2, 3, 1, 2, 3, 1, 2, 3, 1, 2, 3, 1, 2, 3, 1, 2, 3, 1, 2, 3, 1, 2, 3, 1, 2, 3, 1, 2, 3, 1, 2, 1, 2, 3, 1, 2, 3, 1, 2, 3, 1, 2, 3, 1, 2, 3, 1, 2, 3, 1, 2, 3, 1, 2, 3, 1, 2, 3, 1, 2, 3, 1, 2, 1, 2, 3, 1, 2, 3, 1, 2, 3, 1, 2, 1, 2, 3, 1, 2, 3, 1, 2, 3, 1, 2, 3, 1, 2, 3, 1, 2, 3, 1, 2, 3, 1, 2, 3, 1, 2, 3, 1, 2, 3, 1, 2, 3, 1, 2, 3, 1, 2, 3, 1, 2, 3, 1, 2, 3, 1, 2, 3, 1, 2, 3, 1, 2, 3, 1, 2, 3, 1, 2, 3, 1, 2, 3, 1, 2, 3, 1, 2, 1, 2, 3, 1, 2, 3, 1, 2, 3, 1, 2, 3, 1, 2, 3, 1, 2, 3, 1, 2, 1, 2, 3, 1, 2, 3, 1, 2, 3, 1, 2, 3, 1, 2, 3, 1, 2, 3, 1, 2, 1, 2, 3, 1, 2, 3, 1, 2, 3, 1, 2, 3, 1, 2, 3, 1, 2, 3, 1, 2, 3, 1, 2, 3, 1, 2, 3, 1, 2, 3, 1, 2, 3, 1, 2, 1, 2, 3, 1, 2, 3], \"Freq\": [0.4666681472335106, 0.47416482429750273, 0.059973416511937105, 0.05574855520021392, 0.8919768832034227, 0.14023399849323062, 0.825822435571247, 0.03895388847034184, 0.1254759575754485, 0.250951915150897, 0.6273797878772425, 0.9801878845249625, 0.018378522834843047, 0.4997407489215326, 0.48528858114450196, 0.015212808186348023, 0.5089092606404844, 0.4737950162231137, 0.017309838797295387, 0.05693741296847673, 0.9109986074956277, 0.03795827531231782, 0.05417833538646491, 0.05417833538646491, 0.8668533661834386, 0.0406333965023022, 0.9345681195529507, 0.0406333965023022, 0.9610120222896882, 0.027284252998760864, 0.009094750999586955, 0.6611026076319365, 0.32580654825880123, 0.013285315560067623, 0.19026487849962206, 0.7843572542229318, 0.027180696928517437, 0.37642695339702137, 0.6130108146923503, 0.009578293979567973, 0.5577681540548068, 0.3375335181190033, 0.10532960849103648, 0.5485183010432406, 0.40287723490417326, 0.0491775028521526, 0.05468791054148423, 0.9479237827190601, 0.01822930351382808, 0.9724006466994713, 0.013140549279722585, 0.9767277115104255, 0.012684775474161369, 0.012684775474161369, 0.5664074248892377, 0.4123596343720984, 0.021604263304232946, 0.09057978412527483, 0.18115956825054966, 0.7246382730021986, 0.04571585782537725, 0.182863431301509, 0.7771695830314134, 0.18991859374133266, 0.7878104629270095, 0.021102065971259184, 0.10175939643321577, 0.10175939643321577, 0.8140751714657262, 0.07640218709677386, 0.9168262451612863, 0.1878537979205984, 0.7916695769510933, 0.013418128422899885, 0.11320014255088749, 0.11320014255088749, 0.7924009978562124, 0.8113644496872809, 0.18537154293094577, 0.0029115949151457448, 0.980009130647404, 0.018317927675652414, 0.004579481918913103, 0.1677219913514491, 0.06708879654057964, 0.771521160216666, 0.6703468300043574, 0.3178432164267085, 0.011061828877959692, 0.1102239911944509, 0.03674133039815029, 0.8450505991574568, 0.81646734699006, 0.17024514620122885, 0.013335869785762925, 0.9812223503353076, 0.009002039911333097, 0.9792041154741087, 0.015635993859866006, 0.005863497697449752, 0.9791020636871073, 0.013598639773432045, 0.013598639773432045, 0.13910797277080075, 0.2782159455416015, 0.556431891083203, 0.0197496591409915, 0.947983638767592, 0.0197496591409915, 0.03988181191109203, 0.9571634858662088, 0.7138787203779722, 0.2731436986841487, 0.012924780694833535, 0.045405645544944195, 0.20432540495224888, 0.7491931514915792, 0.03610616288978781, 0.32495546600809033, 0.6408843912937336, 0.1172553696117386, 0.1172553696117386, 0.7035322176704316, 0.22039931422817166, 0.5155102603980964, 0.26149071179613587, 0.05365804597248869, 0.939015804518552, 0.026829022986244344, 0.29701110492638927, 0.6777945727807345, 0.026654842749804165, 0.8416549670000754, 0.1553268823219023, 0.0028898024618028337, 0.8980746629238181, 0.0977230318741913, 0.003908921274967652, 0.21079636222873546, 0.25295563467448257, 0.5269909055718386, 0.25807505048658336, 0.29033443179740626, 0.45163133835152086, 0.06931006388748441, 0.20793019166245322, 0.6931006388748441, 0.08241867000146529, 0.08241867000146529, 0.8241867000146529, 0.9585431420473285, 0.036766038325103015, 0.0052522911893004304, 0.8328674037509268, 0.16089483936097448, 0.006084258631297355, 0.0366114478032219, 0.9518976428837692, 0.01830572390161095, 0.09158413358206308, 0.9005773135569536, 0.01526402226367718, 0.06663595135112, 0.9106913351319734, 0.02221198378370667, 0.13837121217935316, 0.1844949495724709, 0.6918560608967659, 0.47405685739776016, 0.5089493672062247, 0.016844659907534625, 0.06011424772496368, 0.18034274317489105, 0.781485220424528, 0.15731362896277104, 0.17304499185904815, 0.6764486045399154, 0.014223161804012003, 0.14223161804012002, 0.8391665464367082, 0.09590078817695905, 0.1918015763539181, 0.7672063054156724, 0.7780637881472743, 0.21377495169392932, 0.008345568684747992, 0.44277677826576306, 0.5472521978565611, 0.009950039961028384, 0.9636283051903615, 0.034651017823626014, 0.001650048467791715, 0.9760123276208091, 0.02340437724396838, 0.0009959309465518461, 0.9770655257198332, 0.01302754034293111, 0.9719217252168344, 0.01675727112442818, 0.9790106596697831, 0.01618199437470716, 0.00809099718735358, 0.985875108643815, 0.00921378606209173, 0.00921378606209173, 0.9544291811785344, 0.043781155099932766, 0.0021890577549966385, 0.6523672446133089, 0.30315889602618473, 0.04349114964088726, 0.4187526008784838, 0.327025840686054, 0.2552396805354568, 0.04377764126830504, 0.26266584760983025, 0.7004422602928806, 0.044409151205733584, 0.17763660482293434, 0.754955570497471, 0.7755648939065628, 0.2169810429118687, 0.007591173512951675, 0.9736250610453229, 0.018198599271875195, 0.009099299635937598, 0.8529441196456898, 0.1409587246632, 0.005753417333191837, 0.9577916808773499, 0.03914927973167875, 0.0027313450975589826, 0.9414916580215121, 0.056744269671653254, 0.0023160926396593165, 0.24916068939220276, 0.692978167372064, 0.05839703657629752, 0.9793608430108854, 0.019329490322583267, 0.0016107908602152722, 0.38461280700297007, 0.0721149013130569, 0.5528809100667695, 0.8103991449041864, 0.18292183161312006, 0.00665170296774982, 0.564274451734979, 0.4246502273295662, 0.011555108226654861, 0.1646453258006353, 0.2058066572507941, 0.6585813032025412, 0.1292334663686404, 0.20677354618982463, 0.6720140251169301, 0.6021683120138629, 0.3892668563804972, 0.008570185714054978, 0.03216267517405528, 0.9327175800476032, 0.03216267517405528, 0.022286900536733326, 0.958336723079533, 0.022286900536733326, 0.08299022849585652, 0.9128925134544218, 0.952434118973636, 0.044682094470368104, 0.002351689182650953, 0.9494635060258401, 0.04715077682725946, 0.0032239847403254334, 0.9604378264916903, 0.03803714164323526, 0.003169761803602938, 0.9864469256513607, 0.014193480944623896, 0.9747453334918783, 0.02614259515112317, 0.003734656450160453, 0.9790288667705345, 0.01796383241780797, 0.008981916208903986, 0.8568593463684119, 0.13662365614906474, 0.006317856931748658, 0.8582668726129523, 0.1261668903647667, 0.015770861295595837, 0.783295098771223, 0.21094122947160404, 0.005625099452576108, 0.9526573697005822, 0.044803193129482825, 0.00235806279628857, 0.9646615192768432, 0.031006977405327103, 0.006890439423406023, 0.9695638513412188, 0.028777009286383208, 0.0016602120742144157, 0.07331940713279413, 0.9091606484466471, 0.014663881426558825, 0.7686495995997962, 0.22763253862387473, 0.003508035697970672, 0.9548503422266267, 0.0406319294564522, 0.005078991182056525, 0.04010735912531404, 0.9224692598822228, 0.7989982549785762, 0.1919459364729874, 0.008851875711132915, 0.9439987018153224, 0.05027212021501717, 0.0037238607566679382, 0.4418495633986131, 0.5102310434483984, 0.047341024649851404, 0.07171156964818473, 0.9322504054264016, 0.023903856549394913, 0.1967555855135772, 0.7935808615714279, 0.006558519517119239, 0.05237844709174464, 0.9428120476514035, 0.05237844709174464, 0.7418593741736739, 0.24687085056535704, 0.011844813537226726, 0.10004707239234466, 0.19008943754545485, 0.710334213985647, 0.6940675326107931, 0.2930277669324793, 0.01292009554376011, 0.9454121690510304, 0.05061092982071897, 0.004048874385657518, 0.011208325187823104, 0.9751242913406101, 0.9202694954361758, 0.07565974039659834, 0.003088152669248912, 0.55177026069622, 0.38327267570941737, 0.06526314911460666, 0.659940783731068, 0.324551170101319, 0.015655529541065482, 0.9851945328058466, 0.011411519685009806, 0.003803839895003269, 0.08335069294350864, 0.8835173452011915, 0.033340277177403455, 0.22983015500800955, 0.30054712577970477, 0.4596603100160191, 0.06163575257955838, 0.9245362886933757, 0.010272625429926397, 0.9814680335630541, 0.015773593396549084, 0.0017526214885054537, 0.9839541809061433, 0.014106869977149009, 0.003526717494287252, 0.9783745698246633, 0.015051916458840974, 0.007525958229420487, 0.4046242773364427, 0.5576165414039533, 0.03824806601687767, 0.14775793443805035, 0.8403732521164113, 0.009234870902378147, 0.7299327625964851, 0.2507214057649517, 0.019143752656929813, 0.9372109331073557, 0.05989693933392874, 0.0035233493725840438, 0.7144856807194009, 0.2644645013189154, 0.020959890547419868, 0.7861283850925999, 0.19369408766270735, 0.020575562425708842, 0.17142778998832645, 0.8175786907135569, 0.011868077768422601, 0.05193231398031875, 0.9347816516457376, 0.025966156990159375, 0.2601765787583605, 0.7247776122554328, 0.01351566642900574, 0.4699481980634366, 0.4611228797899448, 0.06839621661956119, 0.9848161854571531, 0.013969023907193661, 0.002328170651198944, 0.9137603883364469, 0.0836617715837175, 0.0032595495422227594, 0.5702723544916747, 0.2791366342030124, 0.1509358723405429, 0.14998040299684695, 0.48743630973975266, 0.35620345711751156, 0.5125581671589418, 0.472876244540185, 0.014329583167884394, 0.13817362018861473, 0.8508586085298908, 0.007272295799400776, 0.8428903564540887, 0.1507665779015217, 0.0070123989721637995, 0.06250592025840712, 0.9063358437469032, 0.03125296012920356, 0.2248686717924645, 0.73772704605598, 0.03550557975670492, 0.10452859767608616, 0.868391426847485, 0.024121984079096805, 0.9763077413073309, 0.019143289045241783, 0.006381096348413927, 0.4112789660479245, 0.5588029429998974, 0.029057753035994668, 0.9831492641703844, 0.015857246196296523, 0.007928623098148261, 0.9753067275804943, 0.018577271001533224, 0.009288635500766612, 0.03097368358824916, 0.9292105076474748, 0.03097368358824916, 0.09093789088377996, 0.37057190535140333, 0.5388070034863963, 0.07197030169232949, 0.28788120676931794, 0.6477327152309653, 0.1894320858191132, 0.0947160429095566, 0.7577283432764528, 0.6278872146812846, 0.3590226894203243, 0.012879737737051991, 0.8186983093503043, 0.17830668088912802, 0.0027860418888926253, 0.9718634702338815, 0.026355619531766277, 0.0032944524414707846, 0.9768759621322396, 0.021324735140100862, 0.0010154635781000412, 0.5883353310132696, 0.3943290485472375, 0.017144741241184237, 0.1548403991801063, 0.1548403991801063, 0.7225885295071628, 0.46075083752529905, 0.5248759540880984, 0.0142500259028443, 0.10742871698621659, 0.8594297358897327, 0.02929874099624089, 0.12334768479131916, 0.12334768479131916, 0.740086108747915, 0.6778366986304583, 0.3150600662872525, 0.007190167487883356, 0.8977487475552733, 0.0970999594129992, 0.0059622782095701266, 0.055667457414038696, 0.9324299116851481, 0.013916864353509674, 0.8667644338302506, 0.12993755080106514, 0.0034701423062599, 0.12202628545554163, 0.12202628545554163, 0.7321577127332498, 0.23961743012531753, 0.31009314486805795, 0.4510445743535389, 0.044889135046559794, 0.9426718359777557, 0.14757219301187588, 0.14757219301187588, 0.7378609650593794, 0.1277344392400118, 0.8685941868320802, 0.01277344392400118, 0.10654014925817512, 0.14915620896144519, 0.7457810448072258, 0.1472028436940683, 0.1472028436940683, 0.7360142184703415, 0.04512018448222935, 0.12408050732613071, 0.834723412921243, 0.5112342293182697, 0.4701055240184435, 0.01857425400637312, 0.13340947304101136, 0.8338092065063211, 0.03335236826025284, 0.8079593440893736, 0.1900186604161274, 0.001520149283329019, 0.9548306072644158, 0.04218691931948818, 0.0028124612879658786, 0.44352358636110806, 0.20416165086463703, 0.3520028463183397, 0.9717219105631695, 0.013686224092439006, 0.03856410529277647, 0.9255385270266353, 0.03856410529277647, 0.10569079935427449, 0.7813569809405292, 0.11324014216529409, 0.6317831405725126, 0.3423698110704844, 0.025862467742734433, 0.04572251917076963, 0.9144503834153925, 0.9581669827774236, 0.0392502137523282, 0.0023088361030781292, 0.1567523840708525, 0.1567523840708525, 0.7837619203542626, 0.38612038898993284, 0.5888335932096476, 0.024132524311870802, 0.974878163540827, 0.016430530846193715, 0.005476843615397905, 0.1599395930302952, 0.8249515851036279, 0.008417873317383959, 0.07381543075137022, 0.9141757193054312, 0.011356220115595419, 0.04699189473536263, 0.9398378947072527, 0.015663964911787544, 0.27121399429624626, 0.522583062180572, 0.20837172732516482, 0.4430536332175212, 0.5450515919438571, 0.012749744840791978, 0.0788917932961917, 0.3330986828061427, 0.5873055723160937, 0.6146376177330027, 0.36287707646183603, 0.02253412252118468, 0.12202307416670846, 0.8652545259093872, 0.011093006742428042, 0.6169328415835508, 0.36992219471275467, 0.012469287462227686, 0.10841224451715155, 0.305525416366518, 0.581483856955631, 0.0951578029541363, 0.0951578029541363, 0.7612624236330904, 0.8565066741292294, 0.14238033024485894, 0.0014831284400506138, 0.862080689046206, 0.13642077634096303, 0.0016436238113369038, 0.877825045053652, 0.11626821788790093, 0.0058134108943950465, 0.9826559423926613, 0.014888726399888808, 0.007444363199944404, 0.09251455532281852, 0.09251455532281852, 0.8326309979053667, 0.5711554594361192, 0.2643364109786998, 0.16048996380849628, 0.3694632785536307, 0.3573497284371182, 0.2786116526797871, 0.06457200690157794, 0.93629410007288, 0.9171095996647035, 0.07868691831442723, 0.0040700130162634775, 0.7416828798964544, 0.24774538082405126, 0.01061396093394577, 0.9704015969866108, 0.02396053325892866, 0.007986844419642886, 0.6298876914155788, 0.3404977720718566, 0.0298682256203383, 0.9868330616004632, 0.011678497770419684, 0.002919624442604921, 0.1398718632255173, 0.1398718632255173, 0.6993593161275865, 0.04181848426707122, 0.9200066538755668, 0.31677320205981246, 0.6629303436772094, 0.020067080673472282, 0.44076038307837034, 0.5481250917769477, 0.009417956903383982, 0.9752293927672468, 0.01805980356976383, 0.009029901784881915, 0.06838780689689451, 0.2393573241391308, 0.6838780689689452, 0.11420002161468235, 0.8565001621101176, 0.02284000432293647, 0.1295520928164984, 0.8333350835223411, 0.03851548705355358, 0.05595297653571456, 0.8952476245714329, 0.3522601633560281, 0.6316389136039126, 0.017352717406700892, 0.7152081168891031, 0.2670598083524528, 0.0176820421055277, 0.03259522921777278, 0.08148807304443197, 0.8800711888798651, 0.30730480715216435, 0.3551637525283211, 0.3375315094950002, 0.14210018724163437, 0.14210018724163437, 0.7105009362081719, 0.8267612502228906, 0.16815483055380825, 0.004874053059530674, 0.30367019405773715, 0.512754589966343, 0.18419339639567664, 0.344815421342001, 0.0574692368903335, 0.5746923689033351, 0.1882051417556062, 0.5323516866801433, 0.28499635751563224, 0.11005908735067707, 0.22011817470135414, 0.6603545241040624, 0.05145759506748496, 0.9519655087484716, 0.02572879753374248, 0.9801668249363782, 0.012729439284888028, 0.9740133856779732, 0.022000302345909047, 0.004000054971983463, 0.16109092864524954, 0.8351292879766884, 0.004239234964348673], \"Term\": [\"add\", \"add\", \"add\", \"add_room\", \"add_room\", \"address\", \"address\", \"address\", \"aftermarket\", \"aftermarket\", \"aftermarket\", \"amazed_pick\", \"amazed_pick\", \"app\", \"app\", \"app\", \"area\", \"area\", \"area\", \"authentic\", \"authentic\", \"authentic\", \"authentic_part\", \"authentic_part\", \"authentic_part\", \"avoidance\", \"avoidance\", \"avoidance\", \"baby\", \"baby\", \"baby\", \"back\", \"back\", \"back\", \"barrier\", \"barrier\", \"barrier\", \"base\", \"base\", \"base\", \"bathroom\", \"bathroom\", \"bathroom\", \"battery\", \"battery\", \"battery\", \"beam\", \"beam\", \"beam\", \"believe_long\", \"believe_long\", \"believe_pick\", \"believe_pick\", \"believe_pick\", \"bit\", \"bit\", \"bit\", \"blue_pad\", \"blue_pad\", \"blue_pad\", \"bottle\", \"bottle\", \"bottle\", \"boundary\", \"boundary\", \"boundary\", \"bravva\", \"bravva\", \"bravva\", \"build_map\", \"build_map\", \"camera\", \"camera\", \"camera\", \"capful\", \"capful\", \"capful\", \"carpet\", \"carpet\", \"carpet\", \"change_life\", \"change_life\", \"change_life\", \"change_pad\", \"change_pad\", \"change_pad\", \"charge\", \"charge\", \"charge\", \"chemical\", \"chemical\", \"chemical\", \"clean\", \"clean\", \"clean\", \"clean_everyday\", \"clean_everyday\", \"clean_hair\", \"clean_hair\", \"clean_hair\", \"clean_morning\", \"clean_morning\", \"clean_morning\", \"clean_pad\", \"clean_pad\", \"clean_pad\", \"clean_zone\", \"clean_zone\", \"clean_zone\", \"cleanbase\", \"cleanbase\", \"cleaning\", \"cleaning\", \"cleaning\", \"cleaning_pad\", \"cleaning_pad\", \"cleaning_pad\", \"cleaning_solution\", \"cleaning_solution\", \"cleaning_solution\", \"clorox\", \"clorox\", \"clorox\", \"cloth\", \"cloth\", \"cloth\", \"cloud\", \"cloud\", \"cloud\", \"create\", \"create\", \"create\", \"customer_service\", \"customer_service\", \"customer_service\", \"daily\", \"daily\", \"daily\", \"damp\", \"damp\", \"damp\", \"damp_mop\", \"damp_mop\", \"damp_mop\", \"damp_pad\", \"damp_pad\", \"damp_pad\", \"damp_wet\", \"damp_wet\", \"damp_wet\", \"daughter\", \"daughter\", \"daughter\", \"day\", \"day\", \"day\", \"define\", \"define\", \"define\", \"degree\", \"degree\", \"degree\", \"delete\", \"delete\", \"delete\", \"detergent\", \"detergent\", \"detergent\", \"device\", \"device\", \"device\", \"dilute\", \"dilute\", \"dilute\", \"disposable\", \"disposable\", \"disposable\", \"disposable_pad\", \"disposable_pad\", \"disposable_pad\", \"disposable_wet\", \"disposable_wet\", \"disposable_wet\", \"do\", \"do\", \"do\", \"dock\", \"dock\", \"dock\", \"dog\", \"dog\", \"dog\", \"dog_hair\", \"dog_hair\", \"dog_hair\", \"dog_help\", \"dog_help\", \"dog_house\", \"dog_house\", \"dog_keep\", \"dog_keep\", \"dog_keep\", \"dog_pick\", \"dog_pick\", \"dog_pick\", \"dog_shed\", \"dog_shed\", \"dog_shed\", \"dollar\", \"dollar\", \"dollar\", \"dry\", \"dry\", \"dry\", \"dry_pad\", \"dry_pad\", \"dry_pad\", \"dry_sweeping\", \"dry_sweeping\", \"dry_sweeping\", \"dust\", \"dust\", \"dust\", \"dust_free\", \"dust_free\", \"dust_free\", \"easy\", \"easy\", \"easy\", \"easy_clean\", \"easy_clean\", \"easy_clean\", \"easy_set\", \"easy_set\", \"easy_set\", \"error\", \"error\", \"error\", \"everyday\", \"everyday\", \"everyday\", \"extra_battery\", \"extra_battery\", \"extra_battery\", \"far\", \"far\", \"far\", \"feature\", \"feature\", \"feature\", \"fill_tank\", \"fill_tank\", \"fill_tank\", \"fill_water\", \"fill_water\", \"fill_water\", \"find\", \"find\", \"find\", \"firmware\", \"firmware\", \"firmware\", \"firmware_update\", \"firmware_update\", \"firmware_update\", \"full_speed\", \"full_speed\", \"gift\", \"gift\", \"gift\", \"hair\", \"hair\", \"hair\", \"hair_dirt\", \"hair_dirt\", \"hair_dirt\", \"hair_everywhere\", \"hair_everywhere\", \"hair_pick\", \"hair_pick\", \"hair_pick\", \"hairy\", \"hairy\", \"hairy\", \"hard\", \"hard\", \"hard\", \"hardwood\", \"hardwood\", \"hardwood\", \"help\", \"help\", \"help\", \"help_keep\", \"help_keep\", \"help_keep\", \"helper\", \"helper\", \"helper\", \"highly_recommend\", \"highly_recommend\", \"highly_recommend\", \"history\", \"history\", \"history\", \"home\", \"home\", \"home\", \"home_clean\", \"home_clean\", \"home_clean\", \"homebase\", \"homebase\", \"house\", \"house\", \"house\", \"husband\", \"husband\", \"husband\", \"include\", \"include\", \"include\", \"individual_room\", \"individual_room\", \"individual_room\", \"information\", \"information\", \"information\", \"initial_mapping\", \"initial_mapping\", \"initial_mapping\", \"issue\", \"issue\", \"issue\", \"jet\", \"jet\", \"jet\", \"keep\", \"keep\", \"keep\", \"keep_clean\", \"keep_clean\", \"keep_clean\", \"keep_zone\", \"keep_zone\", \"kid\", \"kid\", \"kid\", \"kitchen\", \"kitchen\", \"kitchen\", \"know\", \"know\", \"know\", \"large_dog\", \"large_dog\", \"large_dog\", \"laser\", \"laser\", \"laser\", \"leave_streak\", \"leave_streak\", \"leave_streak\", \"lidar\", \"lidar\", \"lidar\", \"life_easy\", \"life_easy\", \"life_easy\", \"life_saver\", \"life_saver\", \"life_saver\", \"lifesaver\", \"lifesaver\", \"lifesaver\", \"light\", \"light\", \"light\", \"location\", \"location\", \"location\", \"long\", \"long\", \"long\", \"long_hair\", \"long_hair\", \"long_hair\", \"look\", \"look\", \"look\", \"machine\", \"machine\", \"machine\", \"map\", \"map\", \"map\", \"map_create\", \"map_create\", \"map_create\", \"mapping\", \"mapping\", \"mapping\", \"mode\", \"mode\", \"mode\", \"mom\", \"mom\", \"mom\", \"money\", \"money\", \"money\", \"mop\", \"mop\", \"mop\", \"mop_pad\", \"mop_pad\", \"mop_pad\", \"move\", \"move\", \"move\", \"movie\", \"movie\", \"movie\", \"name\", \"name\", \"name\", \"name_room\", \"name_room\", \"name_room\", \"navigation\", \"navigation\", \"navigation\", \"network\", \"network\", \"network\", \"new_friend\", \"new_friend\", \"new_friend\", \"note\", \"note\", \"note\", \"obsess\", \"obsess\", \"obsess\", \"omg\", \"omg\", \"omg\", \"original_battery\", \"original_battery\", \"original_battery\", \"pad\", \"pad\", \"pad\", \"pad_clean\", \"pad_clean\", \"pad_clean\", \"pad_disposable\", \"pad_disposable\", \"pad_disposable\", \"part\", \"part\", \"part\", \"pick\", \"pick\", \"pick\", \"pick_dog\", \"pick_dog\", \"pick_dog\", \"pick_hair\", \"pick_hair\", \"pick_hair\", \"place\", \"place\", \"place\", \"plain_water\", \"plain_water\", \"plain_water\", \"point\", \"point\", \"point\", \"position\", \"position\", \"position\", \"probably_mop\", \"probably_mop\", \"probably_mop\", \"problem\", \"problem\", \"problem\", \"quiet\", \"quiet\", \"quiet\", \"reboot\", \"reboot\", \"reboot\", \"recommend\", \"recommend\", \"recommend\", \"recommend_washable\", \"recommend_washable\", \"recommend_washable\", \"refill\", \"refill\", \"refill\", \"remap\", \"remap\", \"resevoir\", \"resevoir\", \"resevoir\", \"resume\", \"resume\", \"resume\", \"reusable\", \"reusable\", \"reusable\", \"reusable_cleaning\", \"reusable_cleaning\", \"reusable_cleaning\", \"reusable_pad\", \"reusable_pad\", \"reusable_pad\", \"room\", \"room\", \"room\", \"router\", \"router\", \"router\", \"rug\", \"rug\", \"rug\", \"save_time\", \"save_time\", \"save_time\", \"scrub\", \"scrub\", \"scrub\", \"second_upstairs\", \"second_upstairs\", \"sequence\", \"sequence\", \"sequence\", \"series\", \"series\", \"series\", \"set\", \"set\", \"set\", \"setup_process\", \"setup_process\", \"shed\", \"shed\", \"shed\", \"simple_green\", \"simple_green\", \"simple_green\", \"simply\", \"simply\", \"simply\", \"small_dog\", \"small_dog\", \"small_dog\", \"smart_map\", \"smart_map\", \"smart_map\", \"software\", \"software\", \"software\", \"software_update\", \"software_update\", \"software_update\", \"solution\", \"solution\", \"solution\", \"space\", \"space\", \"space\", \"spray\", \"spray\", \"spray\", \"start\", \"start\", \"start\", \"status\", \"status\", \"status\", \"still\", \"still\", \"still\", \"streak\", \"streak\", \"streak\", \"streaking\", \"streaking\", \"streaking\", \"suction\", \"suction\", \"suction\", \"suction_power\", \"suction_power\", \"suction_power\", \"sweep\", \"sweep\", \"sweep\", \"sweep_day\", \"sweep_day\", \"sweep_day\", \"sweeping_pad\", \"sweeping_pad\", \"sweeping_pad\", \"swiffer\", \"swiffer\", \"swiffer\", \"tank\", \"tank\", \"tank\", \"temporarily\", \"temporarily\", \"thank\", \"thank\", \"thank\", \"time\", \"time\", \"time\", \"time_saver\", \"time_saver\", \"time_saver\", \"try\", \"try\", \"try\", \"twice_day\", \"twice_day\", \"twice_day\", \"type_pad\", \"type_pad\", \"type_pad\", \"ugly\", \"ugly\", \"unit\", \"unit\", \"unit\", \"update\", \"update\", \"update\", \"vaccume\", \"vaccume\", \"vaccume\", \"vinegar\", \"vinegar\", \"vinegar\", \"virtual\", \"virtual\", \"virtual\", \"virtual_wall\", \"virtual_wall\", \"virtual_wall\", \"virtual_wall_barrier\", \"virtual_wall_barrier\", \"wall\", \"wall\", \"wall\", \"want\", \"want\", \"want\", \"washable_pad\", \"washable_pad\", \"washable_pad\", \"water\", \"water\", \"water\", \"water_only\", \"water_only\", \"water_only\", \"week\", \"week\", \"week\", \"wet\", \"wet\", \"wet\", \"wet_dry\", \"wet_dry\", \"wet_dry\", \"wet_mop\", \"wet_mop\", \"wet_mop\", \"wick\", \"wick\", \"wick\", \"width\", \"width\", \"width\", \"wish_soon\", \"wish_soon\", \"wonderful\", \"wonderful\", \"wonderful\", \"zone\", \"zone\", \"zone\"]}, \"R\": 30, \"lambda.step\": 0.01, \"plot.opts\": {\"xlab\": \"PC1\", \"ylab\": \"PC2\"}, \"topic.order\": [1, 2, 3]};\n",
       "\n",
       "function LDAvis_load_lib(url, callback){\n",
       "  var s = document.createElement('script');\n",
       "  s.src = url;\n",
       "  s.async = true;\n",
       "  s.onreadystatechange = s.onload = callback;\n",
       "  s.onerror = function(){console.warn(\"failed to load library \" + url);};\n",
       "  document.getElementsByTagName(\"head\")[0].appendChild(s);\n",
       "}\n",
       "\n",
       "if(typeof(LDAvis) !== \"undefined\"){\n",
       "   // already loaded: just create the visualization\n",
       "   !function(LDAvis){\n",
       "       new LDAvis(\"#\" + \"ldavis_el996019810069070888472838898\", ldavis_el996019810069070888472838898_data);\n",
       "   }(LDAvis);\n",
       "}else if(typeof define === \"function\" && define.amd){\n",
       "   // require.js is available: use it to load d3/LDAvis\n",
       "   require.config({paths: {d3: \"https://d3js.org/d3.v5\"}});\n",
       "   require([\"d3\"], function(d3){\n",
       "      window.d3 = d3;\n",
       "      LDAvis_load_lib(\"https://cdn.jsdelivr.net/gh/bmabey/pyLDAvis@3.4.0/pyLDAvis/js/ldavis.v3.0.0.js\", function(){\n",
       "        new LDAvis(\"#\" + \"ldavis_el996019810069070888472838898\", ldavis_el996019810069070888472838898_data);\n",
       "      });\n",
       "    });\n",
       "}else{\n",
       "    // require.js not available: dynamically load d3 & LDAvis\n",
       "    LDAvis_load_lib(\"https://d3js.org/d3.v5.js\", function(){\n",
       "         LDAvis_load_lib(\"https://cdn.jsdelivr.net/gh/bmabey/pyLDAvis@3.4.0/pyLDAvis/js/ldavis.v3.0.0.js\", function(){\n",
       "                 new LDAvis(\"#\" + \"ldavis_el996019810069070888472838898\", ldavis_el996019810069070888472838898_data);\n",
       "            })\n",
       "         });\n",
       "}\n",
       "</script>"
      ],
      "text/plain": [
       "PreparedData(topic_coordinates=              x         y  topics  cluster       Freq\n",
       "topic                                                \n",
       "0     -0.086282  0.030814       1        1  64.487023\n",
       "1     -0.015288 -0.049534       2        1  31.064750\n",
       "2      0.101570  0.018720       3        1   4.448227, topic_info=       Term         Freq        Total Category  logprob  loglift\n",
       "2623    mop  1583.000000  1583.000000  Default  30.0000  30.0000\n",
       "2485    pad   439.000000   439.000000  Default  29.0000  29.0000\n",
       "4492  water   396.000000   396.000000  Default  28.0000  28.0000\n",
       "1672   unit  1395.000000  1395.000000  Default  27.0000  27.0000\n",
       "77     room  2261.000000  2261.000000  Default  26.0000  26.0000\n",
       "...     ...          ...          ...      ...      ...      ...\n",
       "237     try    44.622289  1506.617787   Topic3  -7.0270  -0.4067\n",
       "474     set    42.497211  1623.974959   Topic3  -7.0758  -0.5305\n",
       "77     room    42.132213  2261.194446   Topic3  -7.0845  -0.8702\n",
       "333    time    41.170964  3862.836905   Topic3  -7.1075  -1.4288\n",
       "342    area    35.293301  2021.971459   Topic3  -7.2616  -0.9355\n",
       "\n",
       "[285 rows x 6 columns], token_table=       Topic      Freq       Term\n",
       "term                             \n",
       "1421       1  0.466668        add\n",
       "1421       2  0.474165        add\n",
       "1421       3  0.059973        add\n",
       "22145      1  0.055749   add_room\n",
       "22145      2  0.891977   add_room\n",
       "...      ...       ...        ...\n",
       "1233       2  0.022000  wonderful\n",
       "1233       3  0.004000  wonderful\n",
       "5074       1  0.161091       zone\n",
       "5074       2  0.835129       zone\n",
       "5074       3  0.004239       zone\n",
       "\n",
       "[698 rows x 3 columns], R=30, lambda_step=0.01, plot_opts={'xlab': 'PC1', 'ylab': 'PC2'}, topic_order=[1, 2, 3])"
      ]
     },
     "execution_count": 17,
     "metadata": {},
     "output_type": "execute_result"
    }
   ],
   "source": [
    "pos_lda_vis_data[pos_key]"
   ]
  },
  {
   "cell_type": "markdown",
   "metadata": {},
   "source": [
    "### 3.2 Negative reviews"
   ]
  },
  {
   "cell_type": "code",
   "execution_count": 18,
   "metadata": {},
   "outputs": [
    {
     "data": {
      "text/html": [
       "<div>\n",
       "<style scoped>\n",
       "    .dataframe tbody tr th:only-of-type {\n",
       "        vertical-align: middle;\n",
       "    }\n",
       "\n",
       "    .dataframe tbody tr th {\n",
       "        vertical-align: top;\n",
       "    }\n",
       "\n",
       "    .dataframe thead th {\n",
       "        text-align: right;\n",
       "    }\n",
       "</style>\n",
       "<table border=\"1\" class=\"dataframe\">\n",
       "  <thead>\n",
       "    <tr style=\"text-align: right;\">\n",
       "      <th></th>\n",
       "      <th>min_count</th>\n",
       "      <th>threshold</th>\n",
       "      <th>corpus_proportion</th>\n",
       "      <th>num_topics</th>\n",
       "      <th>alpha</th>\n",
       "      <th>eta</th>\n",
       "      <th>coherence_score</th>\n",
       "    </tr>\n",
       "  </thead>\n",
       "  <tbody>\n",
       "    <tr>\n",
       "      <th>0</th>\n",
       "      <td>5</td>\n",
       "      <td>0.0001</td>\n",
       "      <td>85%</td>\n",
       "      <td>3</td>\n",
       "      <td>auto</td>\n",
       "      <td>1.0</td>\n",
       "      <td>0.667406</td>\n",
       "    </tr>\n",
       "    <tr>\n",
       "      <th>1</th>\n",
       "      <td>1</td>\n",
       "      <td>0.0001</td>\n",
       "      <td>90%</td>\n",
       "      <td>10</td>\n",
       "      <td>auto</td>\n",
       "      <td>symmetric</td>\n",
       "      <td>0.626780</td>\n",
       "    </tr>\n",
       "    <tr>\n",
       "      <th>2</th>\n",
       "      <td>1</td>\n",
       "      <td>0.0001</td>\n",
       "      <td>90%</td>\n",
       "      <td>10</td>\n",
       "      <td>auto</td>\n",
       "      <td>auto</td>\n",
       "      <td>0.626780</td>\n",
       "    </tr>\n",
       "    <tr>\n",
       "      <th>3</th>\n",
       "      <td>1</td>\n",
       "      <td>0.0001</td>\n",
       "      <td>85%</td>\n",
       "      <td>10</td>\n",
       "      <td>auto</td>\n",
       "      <td>auto</td>\n",
       "      <td>0.622343</td>\n",
       "    </tr>\n",
       "    <tr>\n",
       "      <th>4</th>\n",
       "      <td>1</td>\n",
       "      <td>0.0001</td>\n",
       "      <td>85%</td>\n",
       "      <td>10</td>\n",
       "      <td>auto</td>\n",
       "      <td>symmetric</td>\n",
       "      <td>0.622343</td>\n",
       "    </tr>\n",
       "  </tbody>\n",
       "</table>\n",
       "</div>"
      ],
      "text/plain": [
       "   min_count  threshold corpus_proportion  num_topics alpha        eta  \\\n",
       "0          5     0.0001               85%           3  auto        1.0   \n",
       "1          1     0.0001               90%          10  auto  symmetric   \n",
       "2          1     0.0001               90%          10  auto       auto   \n",
       "3          1     0.0001               85%          10  auto       auto   \n",
       "4          1     0.0001               85%          10  auto  symmetric   \n",
       "\n",
       "   coherence_score  \n",
       "0         0.667406  \n",
       "1         0.626780  \n",
       "2         0.626780  \n",
       "3         0.622343  \n",
       "4         0.622343  "
      ]
     },
     "execution_count": 18,
     "metadata": {},
     "output_type": "execute_result"
    }
   ],
   "source": [
    "neg_eval_result_summary = lda.fetch_evaluation_summary(sentiment='negative')\n",
    "neg_eval_result_summary.head()"
   ]
  },
  {
   "cell_type": "code",
   "execution_count": 19,
   "metadata": {},
   "outputs": [],
   "source": [
    "neg_idx = 0\n",
    "neg_key = f'LDA_{str(neg_idx).zfill(3)}'\n",
    "\n",
    "# neg_lda_vis_data = lda.get_vis_data(sentiment='negative', i=neg_idx, export_to_html=True, update=True, verbose=True)\n",
    "neg_lda_vis_data = lda.get_vis_data(sentiment='negative', i=neg_idx)"
   ]
  },
  {
   "cell_type": "code",
   "execution_count": 20,
   "metadata": {},
   "outputs": [
    {
     "data": {
      "text/html": [
       "\n",
       "<link rel=\"stylesheet\" type=\"text/css\" href=\"https://cdn.jsdelivr.net/gh/bmabey/pyLDAvis@3.4.0/pyLDAvis/js/ldavis.v1.0.0.css\">\n",
       "\n",
       "\n",
       "<div id=\"ldavis_el996019810069085448098398268\" style=\"background-color:white;\"></div>\n",
       "<script type=\"text/javascript\">\n",
       "\n",
       "var ldavis_el996019810069085448098398268_data = {\"mdsDat\": {\"x\": [0.1153953186094531, -0.12820208771263805, 0.012806769103184977], \"y\": [-0.0654585296079518, -0.047623218547640477, 0.11308174815559234], \"topics\": [1, 2, 3], \"cluster\": [1, 1, 1], \"Freq\": [0.42145498037377516, 70.37401048743725, 29.20453453218898]}, \"tinfo\": {\"Term\": [\"customer_service\", \"month\", \"replacement\", \"company\", \"call\", \"error\", \"replace\", \"roller\", \"fix\", \"support\", \"warranty\", \"service\", \"week\", \"new\", \"receive\", \"dollar\", \"defective\", \"room\", \"battery\", \"send\", \"clean\", \"stuck\", \"break\", \"many_time\", \"refund\", \"year\", \"repair\", \"carpet\", \"home\", \"pick\", \"corporation\", \"disappointment_know\", \"enmeshed\", \"impunity\", \"misdeed\", \"thrive\", \"unimaginably\", \"io\", \"class\", \"imaginable\", \"humanly\", \"financial\", \"nearly_year\", \"sell_know\", \"rhoombas\", \"replace_unfortunately\", \"shrapnel\", \"stay_far\", \"device_connect\", \"movie\", \"orbi\", \"stay_connect\", \"change_wifi\", \"funcionar\", \"home_layout\", \"yet_continue\", \"still_connect\", \"rug_forget\", \"clean_dark\", \"home_tell\", \"suit\", \"battle\", \"commit\", \"robotic_mop\", \"favor\", \"earth\", \"network\", \"instance\", \"abandon\", \"sign\", \"range\", \"action\", \"pathetic\", \"router\", \"various\", \"room\", \"rug\", \"area\", \"carpet\", \"pick\", \"map\", \"furniture\", \"stuck\", \"dirt\", \"kitchen\", \"house\", \"chair\", \"spot\", \"suck\", \"dog_hair\", \"mapping\", \"area_rug\", \"sweep\", \"wall\", \"small\", \"living_room\", \"couch\", \"space\", \"edge\", \"constantly_stuck\", \"tile\", \"bump\", \"smart\", \"corner\", \"dumb\", \"stick\", \"home\", \"hard\", \"dog\", \"constantly\", \"feature\", \"clean\", \"empty\", \"suction\", \"pad\", \"mop\", \"hair\", \"want\", \"place\", \"app\", \"sometimes\", \"leave\", \"dock\", \"cleaning\", \"time\", \"model\", \"return\", \"base\", \"find\", \"try\", \"back\", \"keep\", \"day\", \"waste_money\", \"recommend\", \"start\", \"never\", \"unit\", \"customer_service\", \"replacement\", \"warranty\", \"send_new\", \"email\", \"service\", \"repair\", \"defective\", \"last_month\", \"refurbish\", \"resolution\", \"send_replacement\", \"trouble_shoot\", \"seller\", \"replacement_part\", \"year_warranty\", \"customer_support\", \"brand_new\", \"error_code\", \"stop_charge\", \"call_customer_service\", \"stop_month\", \"authentic\", \"less_year\", \"call_customer\", \"troubleshooting\", \"great_month\", \"replacement_battery\", \"new_unit\", \"shipping\", \"pay_dollar\", \"ship\", \"break_month\", \"website\", \"refund\", \"company\", \"response\", \"last_year\", \"receive\", \"support\", \"call\", \"arrive\", \"fix\", \"month\", \"replace\", \"request\", \"roller\", \"error\", \"send\", \"side_brush\", \"contact\", \"dollar\", \"week\", \"break\", \"new\", \"battery\", \"year\", \"part\", \"charge\", \"order\", \"stop\", \"tell\", \"unit\", \"day\", \"time\", \"still\", \"return\", \"machine\", \"back\"], \"Freq\": [456.0, 604.0, 283.0, 235.0, 252.0, 363.0, 302.0, 328.0, 271.0, 231.0, 170.0, 166.0, 415.0, 444.0, 188.0, 367.0, 157.0, 573.0, 440.0, 274.0, 1219.0, 562.0, 281.0, 107.0, 143.0, 404.0, 124.0, 440.0, 540.0, 421.0, 0.5925611195281792, 0.5925611195281792, 0.5925611195281792, 0.5925611195281792, 0.5925611195281792, 0.5925611195281792, 0.5925611195281792, 0.5665478676803193, 0.585136766402836, 0.5914621056265041, 0.5827232273844712, 0.589693289234569, 0.5729802765195956, 0.5773902714816855, 0.287206615638871, 0.32174057286518115, 0.32174057286518115, 0.59928197424118, 0.2701119993502783, 0.27233936016723326, 0.2069521626887929, 0.2784880976364027, 0.30305489440554245, 0.18500134114743585, 0.30214019280731164, 0.5915636873069197, 0.3742935616236057, 0.2926538577920431, 0.33513975079343966, 0.571493869272673, 0.6177846575018205, 0.58333288210502, 0.4872938515960188, 0.5797632546589767, 0.5933214729491175, 0.5478198498006694, 0.7886328058652071, 0.576505835846042, 0.5797278574769843, 0.5355698455017467, 0.5774855969159814, 0.5330132360129103, 0.5324855710441393, 0.5762211766476005, 0.5347289291921807, 572.2290809101057, 378.54733392190127, 391.91318956987834, 439.05762919529883, 419.8620946298596, 379.56332984900405, 298.22015135349227, 560.534534530192, 310.87342063806494, 217.28970516691967, 394.60822891399533, 176.98952917879112, 178.11043095564386, 251.68300736701542, 209.41115489007726, 283.6068617856377, 159.52232032071856, 177.44129877982806, 173.4611994310089, 310.39031123914674, 158.4486664964611, 119.93346610765884, 152.9296822711523, 144.86198440130778, 130.97767502680193, 148.3244089367034, 152.64079714594558, 173.67249564725049, 171.14962359044142, 122.61982744341516, 471.92607611848274, 534.5024154943102, 250.31534591842387, 224.07841855428288, 254.93435561457565, 188.9540193499289, 1178.6704446146503, 332.35991275599184, 246.3344035107143, 214.9930294758712, 378.67155681666105, 335.8404630575305, 444.13918498439057, 297.6661333709468, 420.2387220254503, 219.27041704775002, 331.11731726105046, 312.2813656397226, 307.8476089710467, 816.3308445507056, 377.2216054894222, 643.9705334115866, 386.0189250104668, 399.02941300878433, 468.38662165882107, 453.544020072785, 372.28406615164675, 423.5781515996873, 345.7914903426837, 350.90713503473404, 354.09891933895267, 334.1388769788824, 340.9966112310531, 454.63279733413765, 281.6163776487626, 168.9494494505005, 103.84504633641329, 109.33108440843667, 164.48658834276029, 123.02349944973223, 155.1375035370395, 102.96451390683762, 59.94770240914657, 56.457151475600284, 61.70248877918028, 60.476327615241495, 71.32051804727335, 69.4644126066395, 52.85051504308088, 88.67602648622474, 86.3774758033867, 82.02723961006657, 63.171670444065015, 54.106756672749775, 59.77357035784675, 46.66184140454815, 84.78797227558152, 49.625885313973185, 56.54429355805356, 48.842203617800095, 34.02949087716685, 37.00305709837295, 30.915877461088105, 61.16846354004658, 70.57163994431922, 46.332458403383384, 85.24087532824814, 135.57319904889883, 217.14710208251964, 75.5200705017705, 96.02647540180924, 169.7390407602949, 192.97912492089233, 207.46172451504853, 78.85481907362747, 210.39938812222707, 404.52548006055633, 220.30838790294638, 74.43400216678639, 226.6622797354248, 238.24122832486643, 187.74100160511134, 100.23635637020308, 124.1676219427234, 219.99307160756362, 238.09658349623047, 181.4928439406683, 244.43436649775657, 237.1902449932737, 204.54823175997876, 176.46837939689493, 211.79034536485287, 144.903589092353, 186.9952038026934, 157.5332015748132, 181.36149384126023, 172.99904831148694, 195.0097350911625, 160.2097165419642, 172.59609936726923, 159.2175707534532, 160.666468068881], \"Total\": [456.0, 604.0, 283.0, 235.0, 252.0, 363.0, 302.0, 328.0, 271.0, 231.0, 170.0, 166.0, 415.0, 444.0, 188.0, 367.0, 157.0, 573.0, 440.0, 274.0, 1219.0, 562.0, 281.0, 107.0, 143.0, 404.0, 124.0, 440.0, 540.0, 421.0, 2.304298183432665, 2.304298183432665, 2.304298183432665, 2.304298183432665, 2.304298183432665, 2.304298183432665, 2.304298183432665, 2.527449117208584, 2.918280562819387, 3.1040298360217773, 3.1307680161718676, 3.374625667070358, 3.962362943154818, 3.9945618471773203, 2.0043071236540606, 2.503349450334674, 2.503349450334674, 4.85674725703256, 2.524070065165539, 2.6553476794884454, 2.059909863302197, 2.8341690613943364, 3.20973641152275, 1.9764523435426493, 3.240205333289666, 6.415682935861, 4.103953140142025, 3.4087458307625145, 3.912810078001505, 7.075918883268132, 8.860778683303543, 8.317351923320544, 8.914895233409942, 14.250536926760702, 15.01980761471543, 14.02851817492569, 35.55212668532447, 17.437474085157003, 18.927847761481495, 15.820030654381494, 26.548945555883407, 25.16628941512559, 25.106351173977316, 45.9810981134614, 39.93500154260403, 573.52590705045, 379.5605770807555, 392.9973049958158, 440.3299702009583, 421.14142244122604, 380.7357441309045, 299.1838706184531, 562.5690655165668, 312.2144075337199, 218.27502544418218, 396.6476910123044, 177.954274613072, 179.11812643279626, 253.11571247239522, 210.63545062670082, 285.3211697238814, 160.5112136600113, 178.56643302927895, 174.62122908889688, 312.472837836772, 159.5292940207064, 120.81938561637926, 154.06787791096176, 145.9799863318553, 131.99175048521064, 149.47653424552405, 153.83101876983255, 175.0638682001643, 172.57360167424304, 123.66897314122404, 476.64774863274334, 540.6415713896347, 252.46569544073196, 226.06721482683147, 257.73358351109295, 190.67829814388276, 1219.16795679914, 337.50726166867906, 249.49646259621912, 217.6568843314825, 391.418416252992, 346.45534799049466, 465.84560503090177, 306.44017084622146, 441.0588980703409, 222.902754826868, 344.27403182585056, 326.56107764459, 326.98142896233765, 1011.3923319580317, 419.28232222693737, 816.6181390811746, 449.07383949634493, 481.90503356863894, 610.1624563012334, 614.2651263948794, 452.934094879776, 596.6288422285369, 433.8020149991233, 473.655977622813, 496.0295033491135, 464.80701065548374, 522.4096436093915, 456.05604369901454, 283.2678548716684, 170.57627817935844, 104.95651494156026, 110.57053058166174, 166.42198586090183, 124.82482076965665, 157.42714244666973, 104.5967366663825, 61.13096645848616, 57.57428269330337, 62.94362335501859, 61.69758644968846, 72.79862707902606, 70.98316234626532, 54.057871738429064, 90.71698818697926, 88.44096102649355, 83.9984055076976, 64.708464057801, 55.4420352396337, 61.345249234704355, 47.89721057081905, 87.15870116393307, 51.039632324430386, 58.17892357801592, 50.394022057964605, 35.158208260336096, 38.25876829730947, 31.96778579243907, 63.33035744061055, 73.25810490380863, 47.91688477998358, 88.77156985562588, 143.09416741279614, 235.82425802047695, 79.39771986213816, 102.49282023062335, 188.8117969438187, 231.39830866159758, 252.9894306271346, 84.67170777837235, 271.52665453538185, 604.1539985704535, 302.21486485233885, 79.49288235283967, 328.28203999700327, 363.2861887664755, 274.3657257403994, 118.65496776098385, 160.76942478259974, 367.0712701844044, 415.86729197993054, 281.37223561490754, 444.4808151103655, 440.8184711807918, 404.28241940228077, 338.1062856898636, 538.4608240900644, 255.99628041291402, 499.65736557561456, 329.03373461394784, 522.4096436093915, 596.6288422285369, 1011.3923319580317, 447.8219259369142, 816.6181390811746, 451.38271388649787, 614.2651263948794], \"Category\": [\"Default\", \"Default\", \"Default\", \"Default\", \"Default\", \"Default\", \"Default\", \"Default\", \"Default\", \"Default\", \"Default\", \"Default\", \"Default\", \"Default\", \"Default\", \"Default\", \"Default\", \"Default\", \"Default\", \"Default\", \"Default\", \"Default\", \"Default\", \"Default\", \"Default\", \"Default\", \"Default\", \"Default\", \"Default\", \"Default\", \"Topic1\", \"Topic1\", \"Topic1\", \"Topic1\", \"Topic1\", \"Topic1\", \"Topic1\", \"Topic1\", \"Topic1\", \"Topic1\", \"Topic1\", \"Topic1\", \"Topic1\", \"Topic1\", \"Topic1\", \"Topic1\", \"Topic1\", \"Topic1\", \"Topic1\", \"Topic1\", \"Topic1\", \"Topic1\", \"Topic1\", \"Topic1\", \"Topic1\", \"Topic1\", \"Topic1\", \"Topic1\", \"Topic1\", \"Topic1\", \"Topic1\", \"Topic1\", \"Topic1\", \"Topic1\", \"Topic1\", \"Topic1\", \"Topic1\", \"Topic1\", \"Topic1\", \"Topic1\", \"Topic1\", \"Topic1\", \"Topic1\", \"Topic1\", \"Topic1\", \"Topic2\", \"Topic2\", \"Topic2\", \"Topic2\", \"Topic2\", \"Topic2\", \"Topic2\", \"Topic2\", \"Topic2\", \"Topic2\", \"Topic2\", \"Topic2\", \"Topic2\", \"Topic2\", \"Topic2\", \"Topic2\", \"Topic2\", \"Topic2\", \"Topic2\", \"Topic2\", \"Topic2\", \"Topic2\", \"Topic2\", \"Topic2\", \"Topic2\", \"Topic2\", \"Topic2\", \"Topic2\", \"Topic2\", \"Topic2\", \"Topic2\", \"Topic2\", \"Topic2\", \"Topic2\", \"Topic2\", \"Topic2\", \"Topic2\", \"Topic2\", \"Topic2\", \"Topic2\", \"Topic2\", \"Topic2\", \"Topic2\", \"Topic2\", \"Topic2\", \"Topic2\", \"Topic2\", \"Topic2\", \"Topic2\", \"Topic2\", \"Topic2\", \"Topic2\", \"Topic2\", \"Topic2\", \"Topic2\", \"Topic2\", \"Topic2\", \"Topic2\", \"Topic2\", \"Topic2\", \"Topic2\", \"Topic2\", \"Topic2\", \"Topic3\", \"Topic3\", \"Topic3\", \"Topic3\", \"Topic3\", \"Topic3\", \"Topic3\", \"Topic3\", \"Topic3\", \"Topic3\", \"Topic3\", \"Topic3\", \"Topic3\", \"Topic3\", \"Topic3\", \"Topic3\", \"Topic3\", \"Topic3\", \"Topic3\", \"Topic3\", \"Topic3\", \"Topic3\", \"Topic3\", \"Topic3\", \"Topic3\", \"Topic3\", \"Topic3\", \"Topic3\", \"Topic3\", \"Topic3\", \"Topic3\", \"Topic3\", \"Topic3\", \"Topic3\", \"Topic3\", \"Topic3\", \"Topic3\", \"Topic3\", \"Topic3\", \"Topic3\", \"Topic3\", \"Topic3\", \"Topic3\", \"Topic3\", \"Topic3\", \"Topic3\", \"Topic3\", \"Topic3\", \"Topic3\", \"Topic3\", \"Topic3\", \"Topic3\", \"Topic3\", \"Topic3\", \"Topic3\", \"Topic3\", \"Topic3\", \"Topic3\", \"Topic3\", \"Topic3\", \"Topic3\", \"Topic3\", \"Topic3\", \"Topic3\", \"Topic3\", \"Topic3\", \"Topic3\", \"Topic3\", \"Topic3\"], \"logprob\": [30.0, 29.0, 28.0, 27.0, 26.0, 25.0, 24.0, 23.0, 22.0, 21.0, 20.0, 19.0, 18.0, 17.0, 16.0, 15.0, 14.0, 13.0, 12.0, 11.0, 10.0, 9.0, 8.0, 7.0, 6.0, 5.0, 4.0, 3.0, 2.0, 1.0, -7.3722, -7.3722, -7.3722, -7.3722, -7.3722, -7.3722, -7.3722, -7.4171, -7.3848, -7.374, -7.3889, -7.377, -7.4058, -7.3981, -8.0964, -7.9829, -7.9829, -7.3609, -8.1578, -8.1496, -8.4241, -8.1273, -8.0427, -8.5363, -8.0457, -7.3739, -7.8316, -8.0776, -7.9421, -7.4084, -7.3305, -7.3879, -7.5678, -7.394, -7.3709, -7.4507, -7.0863, -7.3996, -7.3941, -7.4733, -7.3979, -7.4781, -7.4791, -7.4001, -7.4749, -5.6172, -6.0304, -5.9957, -5.8821, -5.9268, -6.0277, -6.2689, -5.6379, -6.2274, -6.5855, -5.9888, -6.7907, -6.7843, -6.4386, -6.6224, -6.3192, -6.8946, -6.7881, -6.8108, -6.2289, -6.9013, -7.1798, -6.9368, -6.991, -7.0917, -6.9673, -6.9387, -6.8096, -6.8242, -7.1577, -5.8099, -5.6854, -6.444, -6.5547, -6.4257, -6.7252, -4.8946, -6.1605, -6.4601, -6.5961, -6.0301, -6.1501, -5.8706, -6.2708, -5.9259, -6.5764, -6.1643, -6.2228, -6.2371, -5.2619, -6.0339, -5.4991, -6.0109, -5.9777, -5.8174, -5.8496, -6.0471, -5.918, -6.1209, -6.1062, -6.0972, -6.1552, -6.1349, -4.9678, -5.4467, -5.9576, -6.4443, -6.3929, -5.9844, -6.2749, -6.0429, -6.4529, -6.9938, -7.0538, -6.9649, -6.985, -6.8201, -6.8464, -7.1198, -6.6023, -6.6285, -6.6802, -6.9414, -7.0963, -6.9967, -7.2443, -6.6471, -7.1827, -7.0522, -7.1986, -7.56, -7.4762, -7.656, -6.9736, -6.8306, -7.2514, -6.6418, -6.1777, -5.7067, -6.7628, -6.5226, -5.953, -5.8247, -5.7523, -6.7196, -5.7382, -5.0845, -5.6922, -6.7773, -5.6638, -5.614, -5.8522, -6.4797, -6.2656, -5.6936, -5.6146, -5.886, -5.5883, -5.6184, -5.7664, -5.9141, -5.7316, -6.1112, -5.8562, -6.0276, -5.8867, -5.934, -5.8142, -6.0108, -5.9363, -6.017, -6.0079], \"loglift\": [30.0, 29.0, 28.0, 27.0, 26.0, 25.0, 24.0, 23.0, 22.0, 21.0, 20.0, 19.0, 18.0, 17.0, 16.0, 15.0, 14.0, 13.0, 12.0, 11.0, 10.0, 9.0, 8.0, 7.0, 6.0, 5.0, 4.0, 3.0, 2.0, 1.0, 4.1111, 4.1111, 4.1111, 4.1111, 4.1111, 4.1111, 4.1111, 3.9738, 3.8623, 3.8114, 3.7879, 3.7248, 3.5355, 3.535, 3.5264, 3.4176, 3.4176, 3.3768, 3.2344, 3.1919, 3.1713, 3.1491, 3.1092, 3.1005, 3.0967, 3.0855, 3.0745, 3.0141, 3.0117, 2.953, 2.806, 2.8119, 2.5626, 2.2673, 2.2378, 2.2263, 1.6608, 2.0598, 1.9834, 2.0835, 1.6412, 1.6145, 1.6159, 1.0897, 1.156, 0.3491, 0.3487, 0.3486, 0.3485, 0.3483, 0.3483, 0.3481, 0.3477, 0.347, 0.3468, 0.3462, 0.3459, 0.3457, 0.3457, 0.3455, 0.3453, 0.3452, 0.345, 0.3447, 0.3447, 0.3445, 0.344, 0.3439, 0.3437, 0.3436, 0.3436, 0.3436, 0.3434, 0.3431, 0.3428, 0.3414, 0.3399, 0.3428, 0.3425, 0.3404, 0.3423, 0.3176, 0.336, 0.3386, 0.339, 0.3182, 0.3202, 0.3036, 0.3223, 0.303, 0.3349, 0.3124, 0.3066, 0.291, 0.1371, 0.2456, 0.1138, 0.2, 0.1626, 0.0869, 0.048, 0.1553, 0.0088, 0.1246, 0.0514, 0.0143, 0.0213, -0.0752, 1.2277, 1.225, 1.2213, 1.2202, 1.2196, 1.2191, 1.2163, 1.2162, 1.2151, 1.2113, 1.2113, 1.2109, 1.2109, 1.2103, 1.2092, 1.2083, 1.2081, 1.2072, 1.2071, 1.2068, 1.2065, 1.2049, 1.2047, 1.2033, 1.2028, 1.2023, 1.1996, 1.1982, 1.1975, 1.1974, 1.1961, 1.1935, 1.1972, 1.1903, 1.1769, 1.1483, 1.1808, 1.1657, 1.1244, 1.0493, 1.0324, 1.1597, 0.9758, 0.8297, 0.9147, 1.1651, 0.8604, 0.8089, 0.8514, 1.0622, 0.9725, 0.7189, 0.6732, 0.7924, 0.6329, 0.6111, 0.5495, 0.5806, 0.2977, 0.6618, 0.248, 0.4943, 0.1729, -0.0072, -0.4152, 0.2029, -0.3234, 0.1888, -0.1102]}, \"token.table\": {\"Topic\": [1, 2, 3, 1, 2, 3, 2, 3, 2, 3, 2, 3, 2, 3, 2, 3, 2, 3, 2, 3, 2, 3, 1, 2, 3, 2, 3, 2, 3, 2, 3, 2, 3, 2, 3, 2, 3, 2, 3, 2, 3, 2, 3, 2, 3, 2, 3, 1, 2, 3, 2, 3, 2, 3, 2, 3, 2, 3, 2, 3, 2, 3, 2, 3, 2, 3, 2, 3, 1, 2, 3, 2, 3, 2, 3, 2, 3, 2, 3, 2, 3, 2, 3, 2, 3, 1, 2, 3, 2, 3, 2, 3, 2, 3, 2, 3, 2, 3, 1, 2, 3, 2, 3, 2, 3, 2, 3, 1, 2, 3, 2, 3, 2, 3, 1, 2, 3, 2, 3, 1, 2, 3, 2, 3, 2, 3, 2, 3, 2, 3, 2, 3, 2, 3, 2, 3, 2, 3, 2, 3, 1, 2, 3, 2, 3, 1, 2, 3, 1, 2, 3, 1, 2, 3, 1, 2, 3, 1, 2, 3, 2, 3, 2, 3, 2, 3, 2, 3, 2, 3, 2, 3, 2, 3, 2, 3, 2, 3, 2, 3, 2, 3, 1, 2, 3, 2, 3, 2, 3, 2, 3, 2, 3, 1, 2, 3, 1, 2, 3, 2, 3, 2, 3, 2, 3, 2, 3, 2, 3, 2, 3, 2, 3, 1, 2, 3, 2, 3, 2, 3, 2, 3, 1, 2, 3, 2, 3, 2, 3, 2, 3, 2, 3, 2, 3, 2, 3, 2, 3, 2, 3, 2, 3, 2, 3, 2, 3, 2, 3, 2, 3, 2, 3, 2, 3, 1, 2, 3, 2, 3, 2, 3, 1, 2, 3, 2, 3, 2, 3, 1, 2, 3, 2, 3, 2, 3, 2, 3, 2, 3, 2, 3, 2, 3, 2, 3, 2, 3, 2, 3, 1, 2, 3, 2, 3, 2, 3, 2, 3, 2, 3, 2, 3, 2, 3, 2, 3, 1, 2, 3, 2, 3, 2, 3, 2, 3, 2, 3, 2, 3, 2, 3, 2, 3, 2, 3, 2, 3, 1, 2, 3, 2, 3, 2, 3, 2, 3, 1, 2, 3, 2, 3, 2, 3, 2, 3, 2, 3, 2, 3, 1, 2, 3, 2, 3, 1, 2, 3, 2, 3, 2, 3, 2, 3, 2, 3, 2, 3, 2, 3, 2, 3, 2, 3, 1, 2, 3], \"Freq\": [0.05283220853218282, 0.5283220853218281, 0.4754898767896453, 0.03973569498088082, 0.7152425096558548, 0.2781498648661657, 0.9522537734473223, 0.047612688672366114, 0.9974623108526751, 0.002544546711358865, 0.9968150906821119, 0.006230094316763199, 0.07086192256455913, 0.9330153137666951, 0.02087804254323823, 0.9812679995321969, 0.739094538321791, 0.26210180764274965, 0.8595468407443086, 0.1402887330748483, 0.46277552629216845, 0.5376362731923722, 0.1202305744928452, 0.8416140214499165, 0.1202305744928452, 0.02261395598585678, 0.9724001073918415, 0.3554010927249492, 0.643275977832158, 0.0417389404420436, 0.9599956301670027, 0.9945978465430567, 0.00650063951988926, 0.17787304350402963, 0.8182160001185363, 0.019592617627877087, 0.9796308813938543, 0.01803685589242461, 0.973990218190929, 0.9969796055436533, 0.0022710241584137886, 0.9946375291341167, 0.005619421068554332, 0.6231041255662387, 0.31155206278311937, 0.6072865199665948, 0.3937148080517373, 0.3426675326356859, 0.3426675326356859, 0.3426675326356859, 0.9670529752893122, 0.03280926124815309, 0.2555707995187839, 0.5111415990375678, 0.94194951981654, 0.05810727557309824, 0.5608590868529482, 0.3365154521117689, 0.08056847145194963, 0.9201767528985826, 0.9893937628389228, 0.011639926621634386, 0.9924862691678464, 0.0075762310623499725, 0.23014326293717355, 0.771290935248906, 0.9908815620756792, 0.005794629017986428, 0.43397161321818206, 0.43397161321818206, 0.43397161321818206, 0.9932180948264301, 0.008276817456886918, 0.0021927129654704777, 0.9976843992890674, 0.022046587303777603, 0.9810731350181034, 0.7106595759203811, 0.2899625156467593, 0.012704289545733978, 0.9845824397943832, 0.39618551552942566, 0.39618551552942566, 0.9961103411488506, 0.003202927141957719, 0.43397161321818206, 0.43397161321818206, 0.43397161321818206, 0.9554108598929925, 0.04287100012340351, 0.9908557513374286, 0.008846926351227042, 0.9922356344963068, 0.004747538921034961, 0.4004671897262678, 0.599338651291013, 0.9945906145718529, 0.00808610255749474, 0.07128336632071242, 0.6415502968864117, 0.3564168316035621, 0.9932868446115107, 0.006850254100769039, 0.00904400109811765, 0.9857961196948238, 0.983682538735758, 0.01481449606529756, 0.43397161321818206, 0.43397161321818206, 0.43397161321818206, 0.3440813437594002, 0.655130878517898, 0.023809975771703434, 0.9762090066398408, 0.06657874891954442, 0.798944987034533, 0.19973624675863325, 0.9911982739503142, 0.01048887062381285, 0.2963291631892726, 0.5926583263785452, 0.2963291631892726, 0.827963960129853, 0.1722331044881649, 0.2246556608019905, 0.7734047339084918, 0.5059570514144407, 0.5059570514144407, 0.996042999858228, 0.003342426174020899, 0.0396872469853576, 0.9723375511412611, 0.9698219466054209, 0.031750123251963185, 0.9902335426742728, 0.007921868341394182, 0.9895650432963675, 0.011097925719211598, 0.617244833051821, 0.3086224165259105, 0.14132440132469878, 0.14132440132469878, 0.706622006623494, 0.995845958391692, 0.005042258017173124, 0.31941044332717616, 0.31941044332717616, 0.6388208866543523, 0.3221618517950947, 0.6443237035901894, 0.3221618517950947, 0.43397161321818206, 0.43397161321818206, 0.43397161321818206, 0.057347755478599535, 0.9175640876575926, 0.057347755478599535, 0.39565583860475106, 0.39565583860475106, 0.39565583860475106, 0.8213115422426773, 0.17883396484316363, 0.9941586288143247, 0.004581376169651266, 0.019121055433871888, 0.9847343548444022, 0.05854068593779692, 0.9366509750047507, 0.9614434125180689, 0.03776061741007521, 0.022946647589874997, 0.9752325225696874, 0.9904137103464652, 0.0062684412047244635, 0.6469011573035662, 0.3522509726413255, 0.9061488539548875, 0.0934174076242152, 0.9980675727397648, 0.0026264936124730655, 0.9953695348818318, 0.007009644611843886, 0.43397161321818206, 0.43397161321818206, 0.43397161321818206, 0.8991554854915825, 0.10017116814495083, 0.3310414239965954, 0.6703588835931057, 0.9682732959479213, 0.03321254049425588, 0.3765985176723263, 0.3765985176723263, 0.2523746598548097, 0.2523746598548097, 0.5047493197096194, 0.028127712551519152, 0.7594482388910171, 0.22502170041215322, 0.7185778018472311, 0.2818374013233152, 0.44996317771406985, 0.5489550768111652, 0.02613779911127783, 0.9670985671172797, 0.4854581347539749, 0.4854581347539749, 0.4336000500513541, 0.5664144797968139, 0.9877932446766252, 0.013783161553627328, 0.4791392732301893, 0.5205463709167488, 0.039830558931896805, 0.7169500607741425, 0.27881391252327764, 0.031580431262772275, 0.9632031535145543, 0.997289693246963, 0.0023744992696356263, 0.9724573615041583, 0.029369517629320215, 0.03766627935919639, 0.9039907046207135, 0.07533255871839278, 0.10062930551767105, 0.9003674704212672, 0.7410441683046006, 0.25968214444862076, 0.04891883524369301, 0.9504230847346071, 0.016358321452010688, 0.9814992871206414, 0.016022454409853837, 0.9853809462060109, 0.27133013473729994, 0.7279588980756828, 0.3994648049900942, 0.3994648049900942, 0.0070604552038072916, 0.9955241837368282, 0.028442860130849013, 0.9670572444488664, 0.0140878479761421, 0.972061510353805, 0.06289871309241045, 0.9309009537676746, 0.01736886598009345, 0.9726564948852333, 0.05037928050006197, 0.9572063295011775, 0.7886182894793429, 0.21184932310547563, 0.49892553301756265, 0.49892553301756265, 0.07017279455078825, 0.9122463291602472, 0.07017279455078825, 0.3107084383931911, 0.6914785834828862, 0.9973394278589829, 0.0017436003983548653, 0.02174806694551822, 0.8699226778207287, 0.10874033472759109, 0.9985230892916568, 0.0026346255654133427, 0.5867260568244282, 0.2933630284122141, 0.25034034726652954, 0.25034034726652954, 0.5006806945330591, 0.013736522790662752, 0.9752931181370553, 0.3170950007156435, 0.6852167831556435, 0.009527755380948001, 0.9908865596185921, 0.015887232839452807, 0.985008436046074, 0.012017642919317357, 0.9854467193840232, 0.040951100276742654, 0.9691760398829095, 0.031281490888759554, 0.9697262175515463, 0.3994648049900942, 0.3994648049900942, 0.15170034883207614, 0.8427797157337564, 0.06321100267419781, 0.31605501337098907, 0.6953210294161759, 0.9920862310660623, 0.0064005563294584665, 0.9939229710213652, 0.005712200982881409, 0.9824912221031125, 0.017945045152568263, 0.9930687828933498, 0.006490645639825815, 0.9937576031244623, 0.0055829078827216985, 0.7136672266666548, 0.28627329431261295, 0.3528371026349523, 0.3528371026349523, 0.20589912282382042, 0.41179824564764084, 0.6176973684714613, 0.9902490913970006, 0.010489926815646191, 0.6431127716613216, 0.35728487314517865, 0.7310024987020635, 0.2436674995673545, 0.6264292724663794, 0.37425646629780496, 0.015453928857077298, 0.9735975179958698, 0.03260236163273351, 0.9780708489820054, 0.9972108926481302, 0.0035551190468739047, 0.9955920852897787, 0.003950762243213408, 0.9859859231676654, 0.01202421857521543, 0.11285689844441214, 0.7899982891108851, 0.11285689844441214, 0.16421900496935832, 0.8340596831338462, 0.9912277296314581, 0.005600156664584509, 0.5197035501561342, 0.48019392353607726, 0.43397161321818206, 0.43397161321818206, 0.43397161321818206, 0.9901219662806822, 0.006690013285680285, 0.8068085689558702, 0.19280351831666015, 0.016208089449584125, 0.9724853669750475, 0.034376710275810955, 0.9797362428606122, 0.7670088435741961, 0.23272490552892275, 0.43397161321818206, 0.43397161321818206, 0.43397161321818206, 0.6527444586282705, 0.34647139886134004, 0.02504069015580645, 0.9014648456090322, 0.07512207046741935, 0.9907157388746156, 0.00572668057152957, 0.9531054821705303, 0.047225947314756, 0.011724959773697427, 0.9907591008774327, 0.7975988769916139, 0.2028575178475781, 0.03379460343980698, 0.9575137641278644, 0.4280211582703411, 0.572297953192928, 0.49470367842285573, 0.5070712703834271, 0.018498693489797758, 0.9804307549592812, 0.15586805177207494, 0.7793402588603746, 0.15586805177207494], \"Term\": [\"abandon\", \"abandon\", \"abandon\", \"action\", \"action\", \"action\", \"app\", \"app\", \"area\", \"area\", \"area_rug\", \"area_rug\", \"arrive\", \"arrive\", \"authentic\", \"authentic\", \"back\", \"back\", \"base\", \"base\", \"battery\", \"battery\", \"battle\", \"battle\", \"battle\", \"brand_new\", \"brand_new\", \"break\", \"break\", \"break_month\", \"break_month\", \"bump\", \"bump\", \"call\", \"call\", \"call_customer\", \"call_customer\", \"call_customer_service\", \"call_customer_service\", \"carpet\", \"carpet\", \"chair\", \"chair\", \"change_wifi\", \"change_wifi\", \"charge\", \"charge\", \"class\", \"class\", \"class\", \"clean\", \"clean\", \"clean_dark\", \"clean_dark\", \"cleaning\", \"cleaning\", \"commit\", \"commit\", \"company\", \"company\", \"constantly\", \"constantly\", \"constantly_stuck\", \"constantly_stuck\", \"contact\", \"contact\", \"corner\", \"corner\", \"corporation\", \"corporation\", \"corporation\", \"couch\", \"couch\", \"customer_service\", \"customer_service\", \"customer_support\", \"customer_support\", \"day\", \"day\", \"defective\", \"defective\", \"device_connect\", \"device_connect\", \"dirt\", \"dirt\", \"disappointment_know\", \"disappointment_know\", \"disappointment_know\", \"dock\", \"dock\", \"dog\", \"dog\", \"dog_hair\", \"dog_hair\", \"dollar\", \"dollar\", \"dumb\", \"dumb\", \"earth\", \"earth\", \"earth\", \"edge\", \"edge\", \"email\", \"email\", \"empty\", \"empty\", \"enmeshed\", \"enmeshed\", \"enmeshed\", \"error\", \"error\", \"error_code\", \"error_code\", \"favor\", \"favor\", \"favor\", \"feature\", \"feature\", \"financial\", \"financial\", \"financial\", \"find\", \"find\", \"fix\", \"fix\", \"funcionar\", \"funcionar\", \"furniture\", \"furniture\", \"great_month\", \"great_month\", \"hair\", \"hair\", \"hard\", \"hard\", \"home\", \"home\", \"home_layout\", \"home_layout\", \"home_tell\", \"home_tell\", \"home_tell\", \"house\", \"house\", \"humanly\", \"humanly\", \"humanly\", \"imaginable\", \"imaginable\", \"imaginable\", \"impunity\", \"impunity\", \"impunity\", \"instance\", \"instance\", \"instance\", \"io\", \"io\", \"io\", \"keep\", \"keep\", \"kitchen\", \"kitchen\", \"last_month\", \"last_month\", \"last_year\", \"last_year\", \"leave\", \"leave\", \"less_year\", \"less_year\", \"living_room\", \"living_room\", \"machine\", \"machine\", \"many_time\", \"many_time\", \"map\", \"map\", \"mapping\", \"mapping\", \"misdeed\", \"misdeed\", \"misdeed\", \"model\", \"model\", \"month\", \"month\", \"mop\", \"mop\", \"movie\", \"movie\", \"nearly_year\", \"nearly_year\", \"nearly_year\", \"network\", \"network\", \"network\", \"never\", \"never\", \"new\", \"new\", \"new_unit\", \"new_unit\", \"orbi\", \"orbi\", \"order\", \"order\", \"pad\", \"pad\", \"part\", \"part\", \"pathetic\", \"pathetic\", \"pathetic\", \"pay_dollar\", \"pay_dollar\", \"pick\", \"pick\", \"place\", \"place\", \"range\", \"range\", \"range\", \"receive\", \"receive\", \"recommend\", \"recommend\", \"refund\", \"refund\", \"refurbish\", \"refurbish\", \"repair\", \"repair\", \"replace\", \"replace\", \"replace_unfortunately\", \"replace_unfortunately\", \"replacement\", \"replacement\", \"replacement_battery\", \"replacement_battery\", \"replacement_part\", \"replacement_part\", \"request\", \"request\", \"resolution\", \"resolution\", \"response\", \"response\", \"return\", \"return\", \"rhoombas\", \"rhoombas\", \"robotic_mop\", \"robotic_mop\", \"robotic_mop\", \"roller\", \"roller\", \"room\", \"room\", \"router\", \"router\", \"router\", \"rug\", \"rug\", \"rug_forget\", \"rug_forget\", \"sell_know\", \"sell_know\", \"sell_know\", \"seller\", \"seller\", \"send\", \"send\", \"send_new\", \"send_new\", \"send_replacement\", \"send_replacement\", \"service\", \"service\", \"ship\", \"ship\", \"shipping\", \"shipping\", \"shrapnel\", \"shrapnel\", \"side_brush\", \"side_brush\", \"sign\", \"sign\", \"sign\", \"small\", \"small\", \"smart\", \"smart\", \"sometimes\", \"sometimes\", \"space\", \"space\", \"spot\", \"spot\", \"start\", \"start\", \"stay_connect\", \"stay_connect\", \"stay_far\", \"stay_far\", \"stay_far\", \"stick\", \"stick\", \"still\", \"still\", \"still_connect\", \"still_connect\", \"stop\", \"stop\", \"stop_charge\", \"stop_charge\", \"stop_month\", \"stop_month\", \"stuck\", \"stuck\", \"suck\", \"suck\", \"suction\", \"suction\", \"suit\", \"suit\", \"suit\", \"support\", \"support\", \"sweep\", \"sweep\", \"tell\", \"tell\", \"thrive\", \"thrive\", \"thrive\", \"tile\", \"tile\", \"time\", \"time\", \"trouble_shoot\", \"trouble_shoot\", \"troubleshooting\", \"troubleshooting\", \"try\", \"try\", \"unimaginably\", \"unimaginably\", \"unimaginably\", \"unit\", \"unit\", \"various\", \"various\", \"various\", \"wall\", \"wall\", \"want\", \"want\", \"warranty\", \"warranty\", \"waste_money\", \"waste_money\", \"website\", \"website\", \"week\", \"week\", \"year\", \"year\", \"year_warranty\", \"year_warranty\", \"yet_continue\", \"yet_continue\", \"yet_continue\"]}, \"R\": 30, \"lambda.step\": 0.01, \"plot.opts\": {\"xlab\": \"PC1\", \"ylab\": \"PC2\"}, \"topic.order\": [1, 2, 3]};\n",
       "\n",
       "function LDAvis_load_lib(url, callback){\n",
       "  var s = document.createElement('script');\n",
       "  s.src = url;\n",
       "  s.async = true;\n",
       "  s.onreadystatechange = s.onload = callback;\n",
       "  s.onerror = function(){console.warn(\"failed to load library \" + url);};\n",
       "  document.getElementsByTagName(\"head\")[0].appendChild(s);\n",
       "}\n",
       "\n",
       "if(typeof(LDAvis) !== \"undefined\"){\n",
       "   // already loaded: just create the visualization\n",
       "   !function(LDAvis){\n",
       "       new LDAvis(\"#\" + \"ldavis_el996019810069085448098398268\", ldavis_el996019810069085448098398268_data);\n",
       "   }(LDAvis);\n",
       "}else if(typeof define === \"function\" && define.amd){\n",
       "   // require.js is available: use it to load d3/LDAvis\n",
       "   require.config({paths: {d3: \"https://d3js.org/d3.v5\"}});\n",
       "   require([\"d3\"], function(d3){\n",
       "      window.d3 = d3;\n",
       "      LDAvis_load_lib(\"https://cdn.jsdelivr.net/gh/bmabey/pyLDAvis@3.4.0/pyLDAvis/js/ldavis.v3.0.0.js\", function(){\n",
       "        new LDAvis(\"#\" + \"ldavis_el996019810069085448098398268\", ldavis_el996019810069085448098398268_data);\n",
       "      });\n",
       "    });\n",
       "}else{\n",
       "    // require.js not available: dynamically load d3 & LDAvis\n",
       "    LDAvis_load_lib(\"https://d3js.org/d3.v5.js\", function(){\n",
       "         LDAvis_load_lib(\"https://cdn.jsdelivr.net/gh/bmabey/pyLDAvis@3.4.0/pyLDAvis/js/ldavis.v3.0.0.js\", function(){\n",
       "                 new LDAvis(\"#\" + \"ldavis_el996019810069085448098398268\", ldavis_el996019810069085448098398268_data);\n",
       "            })\n",
       "         });\n",
       "}\n",
       "</script>"
      ],
      "text/plain": [
       "PreparedData(topic_coordinates=              x         y  topics  cluster       Freq\n",
       "topic                                                \n",
       "0      0.115395 -0.065459       1        1   0.421455\n",
       "1     -0.128202 -0.047623       2        1  70.374010\n",
       "2      0.012807  0.113082       3        1  29.204535, topic_info=                 Term        Freq        Total Category  logprob  loglift\n",
       "38   customer_service  456.000000   456.000000  Default  30.0000  30.0000\n",
       "761             month  604.000000   604.000000  Default  29.0000  29.0000\n",
       "27        replacement  283.000000   283.000000  Default  28.0000  28.0000\n",
       "36            company  235.000000   235.000000  Default  27.0000  27.0000\n",
       "802              call  252.000000   252.000000  Default  26.0000  26.0000\n",
       "..                ...         ...          ...      ...      ...      ...\n",
       "31               time  195.009735  1011.392332   Topic3  -5.8142  -0.4152\n",
       "395             still  160.209717   447.821926   Topic3  -6.0108   0.2029\n",
       "192            return  172.596099   816.618139   Topic3  -5.9363  -0.3234\n",
       "406           machine  159.217571   451.382714   Topic3  -6.0170   0.1888\n",
       "34               back  160.666468   614.265126   Topic3  -6.0079  -0.1102\n",
       "\n",
       "[207 rows x 6 columns], token_table=       Topic      Freq           Term\n",
       "term                                 \n",
       "9783       1  0.052832        abandon\n",
       "9783       2  0.528322        abandon\n",
       "9783       3  0.475490        abandon\n",
       "4032       1  0.039736         action\n",
       "4032       2  0.715243         action\n",
       "...      ...       ...            ...\n",
       "954        2  0.018499  year_warranty\n",
       "954        3  0.980431  year_warranty\n",
       "15787      1  0.155868   yet_continue\n",
       "15787      2  0.779340   yet_continue\n",
       "15787      3  0.155868   yet_continue\n",
       "\n",
       "[377 rows x 3 columns], R=30, lambda_step=0.01, plot_opts={'xlab': 'PC1', 'ylab': 'PC2'}, topic_order=[1, 2, 3])"
      ]
     },
     "execution_count": 20,
     "metadata": {},
     "output_type": "execute_result"
    }
   ],
   "source": [
    "neg_lda_vis_data[neg_key]"
   ]
  },
  {
   "cell_type": "markdown",
   "metadata": {},
   "source": [
    "---"
   ]
  }
 ],
 "metadata": {
  "kernelspec": {
   "display_name": "Python 3 (ipykernel)",
   "language": "python",
   "name": "python3"
  },
  "language_info": {
   "codemirror_mode": {
    "name": "ipython",
    "version": 3
   },
   "file_extension": ".py",
   "mimetype": "text/x-python",
   "name": "python",
   "nbconvert_exporter": "python",
   "pygments_lexer": "ipython3",
   "version": "3.10.13"
  },
  "toc-autonumbering": true,
  "widgets": {
   "application/vnd.jupyter.widget-state+json": {
    "state": {},
    "version_major": 2,
    "version_minor": 0
   }
  }
 },
 "nbformat": 4,
 "nbformat_minor": 4
}
